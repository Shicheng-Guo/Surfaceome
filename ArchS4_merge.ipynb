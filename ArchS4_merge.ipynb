{
  "nbformat": 4,
  "nbformat_minor": 0,
  "metadata": {
    "kernelspec": {
      "display_name": "R",
      "language": "R",
      "name": "ir"
    },
    "language_info": {
      "codemirror_mode": "r",
      "file_extension": ".r",
      "mimetype": "text/x-r-source",
      "name": "R",
      "pygments_lexer": "r",
      "version": "3.6.2"
    },
    "colab": {
      "name": "ArchS4_merge.ipynb",
      "provenance": [],
      "collapsed_sections": [
        "FUCrUEltQuvM",
        "AfklNf-8QuvO",
        "kafa8PjeQuvR",
        "3VoQDfafQuvS",
        "J32l-k2DQuvV",
        "ITyjVNPiQuvX",
        "tuiB5XGCQuva",
        "BqKiWFl-Quvb"
      ],
      "include_colab_link": true
    }
  },
  "cells": [
    {
      "cell_type": "markdown",
      "metadata": {
        "id": "view-in-github",
        "colab_type": "text"
      },
      "source": [
        "<a href=\"https://colab.research.google.com/github/volpesofi/Surfaceome/blob/main/ArchS4_merge.ipynb\" target=\"_parent\"><img src=\"https://colab.research.google.com/assets/colab-badge.svg\" alt=\"Open In Colab\"/></a>"
      ]
    },
    {
      "cell_type": "markdown",
      "metadata": {
        "id": "ZApm6T9wRGoS"
      },
      "source": [
        "## GEO Bladder Cancer\n",
        "\n",
        "*   **input**: the ID of the GEO series you want to interrogate and a metadata\n",
        "*   **output**: A list of surface protein differential expressed in cancer and normal samples.\n"
      ]
    },
    {
      "cell_type": "code",
      "metadata": {
        "colab": {
          "base_uri": "https://localhost:8080/"
        },
        "id": "zb9bk-nxQ4R3",
        "outputId": "84e1e54b-0381-4f06-cdbe-27886ee5f1f2"
      },
      "source": [
        "# just for the first time install all the missing R packages\n",
        "if (!requireNamespace(\"BiocManager\", quietly = TRUE))\n",
        "    install.packages(\"BiocManager\")\n",
        "# packages\n",
        "packages <- c(\"data.table\", \"ggplot2\", \"openxlsx\", \"enrichR\", \"VennDiagram\", \n",
        "\"venn\", \"assertr\", \"remotes\", \"ggrepel\", \"viridis\", \"pals\",  \"wesanderson\",\n",
        "\"cowplot\", \"ggpubr\", \"gridExtra\", \"grid\", \"patchwork\", \"pheatmap\")\n",
        "Biocond_packages <- c(\"edgeR\", \"DESeq2\", \"rhdf5\", \"magick\")\n",
        "# install\n",
        "install.packages(setdiff(packages, rownames(installed.packages()))) \n",
        "BiocManager::install(setdiff(Biocond_packages, rownames(installed.packages())))"
      ],
      "execution_count": 57,
      "outputs": [
        {
          "output_type": "stream",
          "text": [
            "Bioconductor version 3.12 (BiocManager 1.30.10), R 4.0.3 (2020-10-10)\n",
            "\n",
            "Installing package(s) 'magick'\n",
            "\n",
            "Warning message in install.packages(...):\n",
            "“installation of package ‘magick’ had non-zero exit status”\n",
            "Old packages: 'cachem', 'gert', 'lifecycle', 'mime', 'promises', 'testthat',\n",
            "  'usethis', 'waldo', 'xfun', 'boot', 'cluster', 'MASS', 'mgcv'\n",
            "\n"
          ],
          "name": "stderr"
        }
      ]
    },
    {
      "cell_type": "code",
      "metadata": {
        "id": "RCaDd66pQuu_"
      },
      "source": [
        "# load libraries \n",
        "suppressMessages(library(\"rhdf5\"))\n",
        "suppressMessages(library(\"edgeR\"))\n",
        "suppressMessages(library(\"DESeq2\"))\n",
        "suppressMessages(library(\"enrichR\"))\n",
        "suppressMessages(library('VennDiagram'))\n",
        "suppressMessages(library(venn))\n",
        "suppressMessages(library(data.table))\n",
        "suppressMessages(library(openxlsx))\n",
        "suppressMessages(library(dplyr))\n",
        "suppressMessages(library(tidyr))\n",
        "suppressMessages(library(stringr))\n",
        "suppressMessages(library(assertr))\n",
        "suppressMessages(library(\"remotes\"))\n",
        "\n",
        "suppressMessages(library(pheatmap))\n",
        "suppressMessages(library(ggplot2))\n",
        "suppressMessages(library(ggrepel))\n",
        "suppressMessages(library(\"RColorBrewer\"))\n",
        "suppressMessages(library(\"viridis\"))\n",
        "suppressMessages(library('pals'))\n",
        "suppressMessages(library(wesanderson))\n",
        "suppressMessages(library(cowplot))\n",
        "suppressMessages(library(ggpubr))\n",
        "suppressMessages(library(grid))\n",
        "suppressMessages(library(gridExtra))\n",
        "suppressMessages(library(patchwork))\n",
        "#suppressMessages(library(\"magick\"))\n",
        "\n",
        "#library(org.Hs.eg.db)\n",
        "#library(\"biomaRt\")\n"
      ],
      "execution_count": 58,
      "outputs": []
    },
    {
      "cell_type": "markdown",
      "metadata": {
        "id": "Iz4ufRwHZ2W7"
      },
      "source": [
        "To identify proteins on the surface we use SURFY (from [*The in silico human surfaceome*;  \n",
        "Proc Natl Acad Sci U S A.; 2018;115(46):E10988-E10997.](https://wlab.ethz.ch/surfaceome/))"
      ]
    },
    {
      "cell_type": "code",
      "metadata": {
        "id": "4Rc4mXiC_oBp"
      },
      "source": [
        "#URL = 'https://raw.githubusercontent.com/auroramaurizio/My_csv/master/500_drugsComTrain_raw_copy1.csv'\n",
        "#download.file(URL, destfile = './500_drugsComTrain_raw_copy1.csv')\n",
        "#head(read.csv(url(URL)))"
      ],
      "execution_count": 59,
      "outputs": []
    },
    {
      "cell_type": "code",
      "metadata": {
        "id": "LRBKc_CCQuvE"
      },
      "source": [
        "# download surfy table\n",
        "surfaceome_table_url='https://wlab.ethz.ch/surfaceome/table_S3_surfaceome.xlsx'\n",
        "\n",
        "ST = rio::import(file = surfaceome_table_url, which = 1, readxl = FALSE, startRow = 2) \n",
        "ST = ST[!is.na(ST$UniProt.name),]\n",
        "ST = ST[!is.na(ST$GeneID),]\n",
        "row.names(ST) <- ST$UniProt.name\n",
        "\n"
      ],
      "execution_count": 60,
      "outputs": []
    },
    {
      "cell_type": "markdown",
      "metadata": {
        "id": "ijzeVXE_QuvF"
      },
      "source": [
        "# MERGE GEO"
      ]
    },
    {
      "cell_type": "code",
      "metadata": {
        "id": "uTNMyIgXQuvF"
      },
      "source": [
        "metadata_url='https://raw.githubusercontent.com/volpesofi/Surfaceome/main/GEO_bladder_ArchS4_all.csv'\n",
        "metadata_ArchS4 = (read.csv(url(metadata_url)))\n",
        "GSM = metadata_ArchS4$samples\n",
        "#table(metadata_ArchS4$condition)\n",
        "#table(metadata_ArchS4$series)"
      ],
      "execution_count": 61,
      "outputs": []
    },
    {
      "cell_type": "markdown",
      "metadata": {
        "id": "TGesfJeVvAKm"
      },
      "source": [
        "Download matrix with the GEO counts (saved in expression) for the GSE selected series (in variable sample_location) "
      ]
    },
    {
      "cell_type": "code",
      "metadata": {
        "id": "s5eMJuusc6Vg"
      },
      "source": [
        "#head(input, 50)\n",
        "series = h5read(matrixh5_url,  name = \"meta/Sample_series_id\", s3 = TRUE)\n",
        "#series = h5read(input, \"meta/Sample_series_id\", s3 = TRUE)"
      ],
      "execution_count": 50,
      "outputs": []
    },
    {
      "cell_type": "code",
      "metadata": {
        "colab": {
          "base_uri": "https://localhost:8080/",
          "height": 272
        },
        "id": "NjE_lbwGQuvF",
        "outputId": "f967412f-4453-4b3c-8b0f-b83f551bc3fd"
      },
      "source": [
        "set.seed(42)\n",
        "options(timeout=600) # increase timeout due to file size\n",
        "\n",
        "# download file from:\n",
        "# https://mssm-seq-matrix.s3.amazonaws.com/human_matrix.h5\n",
        "matrixh5_url='https://mssm-seq-matrix.s3.amazonaws.com/human_matrix.h5'\n",
        "\n",
        "#download.file(matrixh5_url, destfile = './human_matrix.h5')\n",
        "#input = \"human_matrix.h5\"\n",
        "#res = h5ls(input)\n",
        "\n",
        "#input = h5ls(matrixh5_url, s3 = TRUE)\n",
        "\n",
        "\n",
        "series = h5read(matrixh5_url,  name = \"meta/Sample_series_id\", s3 = TRUE)\n",
        "samples = h5read(matrixh5_url,  name = \"meta/Sample_geo_accession\", s3 = TRUE)\n",
        "genes = h5read(matrixh5_url,  name = \"meta/genes\", s3 = TRUE)\n",
        "\n",
        "\n",
        "sample_locations = which(samples %in% GSM)\n",
        "\n",
        "# extract gene expression from compressed data\n",
        "expression = h5read(matrixh5_url, \"data/expression\", \n",
        "index=list(1:length(genes), sample_locations), s3 = TRUE)\n",
        "H5close()\n",
        "\n",
        "rownames(expression) = genes\n",
        "colnames(expression) = samples[sample_locations]\n",
        "\n",
        "# Print file\n",
        "head(expression)\n",
        "write.table(expression, file=\"./GEObladder_expression.tsv\", sep=\"\\t\", quote=FALSE)\n"
      ],
      "execution_count": 62,
      "outputs": [
        {
          "output_type": "display_data",
          "data": {
            "text/plain": [
              "        GSM2055791 GSM2055798 GSM2144557 GSM2144558 GSM2144559 GSM2144547\n",
              "A1BG      107        41         42         99        58         66       \n",
              "A1CF       21        15          2          5         0          0       \n",
              "A2M     42680      4436       2339       2951       308        304       \n",
              "A2ML1      37       343         28         36        13          9       \n",
              "A2MP1      29         6          6          2         0          0       \n",
              "A3GALT2     2         3          0          1         0          0       \n",
              "        GSM2144545 GSM2144548 GSM2144546 GSM2144560 ⋯ GSM3913453 GSM3913454\n",
              "A1BG      47        27          80        34        ⋯  270         71      \n",
              "A1CF       4         1          10         2        ⋯   60         70      \n",
              "A2M     2377       768        3011       746        ⋯ 3641       2693      \n",
              "A2ML1     30         9          27        13        ⋯  221       1252      \n",
              "A2MP1      8        38           3        40        ⋯   24         18      \n",
              "A3GALT2    0        11           2         8        ⋯    2          0      \n",
              "        GSM3913455 GSM3913456 GSM3913457 GSM3913458 GSM3913459 GSM3913460\n",
              "A1BG     130         96        209        191         79        121      \n",
              "A1CF      21         15         32         55         10         21      \n",
              "A2M     1565       2702       8764       4473       1274       7824      \n",
              "A2ML1    207         58        451         48        800        259      \n",
              "A2MP1     16         50         64         25         14         28      \n",
              "A3GALT2    4          2          2          3          0          3      \n",
              "        GSM3913461 GSM3913462\n",
              "A1BG      359        89      \n",
              "A1CF       26         9      \n",
              "A2M     56712      5816      \n",
              "A2ML1      99        24      \n",
              "A2MP1     167        15      \n",
              "A3GALT2     0         2      "
            ],
            "text/latex": "A matrix: 6 × 153 of type int\n\\begin{tabular}{r|lllllllllllllllllllll}\n  & GSM2055791 & GSM2055798 & GSM2144557 & GSM2144558 & GSM2144559 & GSM2144547 & GSM2144545 & GSM2144548 & GSM2144546 & GSM2144560 & ⋯ & GSM3913453 & GSM3913454 & GSM3913455 & GSM3913456 & GSM3913457 & GSM3913458 & GSM3913459 & GSM3913460 & GSM3913461 & GSM3913462\\\\\n\\hline\n\tA1BG &   107 &   41 &   42 &   99 &  58 &  66 &   47 &  27 &   80 &  34 & ⋯ &  270 &   71 &  130 &   96 &  209 &  191 &   79 &  121 &   359 &   89\\\\\n\tA1CF &    21 &   15 &    2 &    5 &   0 &   0 &    4 &   1 &   10 &   2 & ⋯ &   60 &   70 &   21 &   15 &   32 &   55 &   10 &   21 &    26 &    9\\\\\n\tA2M & 42680 & 4436 & 2339 & 2951 & 308 & 304 & 2377 & 768 & 3011 & 746 & ⋯ & 3641 & 2693 & 1565 & 2702 & 8764 & 4473 & 1274 & 7824 & 56712 & 5816\\\\\n\tA2ML1 &    37 &  343 &   28 &   36 &  13 &   9 &   30 &   9 &   27 &  13 & ⋯ &  221 & 1252 &  207 &   58 &  451 &   48 &  800 &  259 &    99 &   24\\\\\n\tA2MP1 &    29 &    6 &    6 &    2 &   0 &   0 &    8 &  38 &    3 &  40 & ⋯ &   24 &   18 &   16 &   50 &   64 &   25 &   14 &   28 &   167 &   15\\\\\n\tA3GALT2 &     2 &    3 &    0 &    1 &   0 &   0 &    0 &  11 &    2 &   8 & ⋯ &    2 &    0 &    4 &    2 &    2 &    3 &    0 &    3 &     0 &    2\\\\\n\\end{tabular}\n",
            "text/markdown": "\nA matrix: 6 × 153 of type int\n\n| <!--/--> | GSM2055791 | GSM2055798 | GSM2144557 | GSM2144558 | GSM2144559 | GSM2144547 | GSM2144545 | GSM2144548 | GSM2144546 | GSM2144560 | ⋯ | GSM3913453 | GSM3913454 | GSM3913455 | GSM3913456 | GSM3913457 | GSM3913458 | GSM3913459 | GSM3913460 | GSM3913461 | GSM3913462 |\n|---|---|---|---|---|---|---|---|---|---|---|---|---|---|---|---|---|---|---|---|---|---|\n| A1BG |   107 |   41 |   42 |   99 |  58 |  66 |   47 |  27 |   80 |  34 | ⋯ |  270 |   71 |  130 |   96 |  209 |  191 |   79 |  121 |   359 |   89 |\n| A1CF |    21 |   15 |    2 |    5 |   0 |   0 |    4 |   1 |   10 |   2 | ⋯ |   60 |   70 |   21 |   15 |   32 |   55 |   10 |   21 |    26 |    9 |\n| A2M | 42680 | 4436 | 2339 | 2951 | 308 | 304 | 2377 | 768 | 3011 | 746 | ⋯ | 3641 | 2693 | 1565 | 2702 | 8764 | 4473 | 1274 | 7824 | 56712 | 5816 |\n| A2ML1 |    37 |  343 |   28 |   36 |  13 |   9 |   30 |   9 |   27 |  13 | ⋯ |  221 | 1252 |  207 |   58 |  451 |   48 |  800 |  259 |    99 |   24 |\n| A2MP1 |    29 |    6 |    6 |    2 |   0 |   0 |    8 |  38 |    3 |  40 | ⋯ |   24 |   18 |   16 |   50 |   64 |   25 |   14 |   28 |   167 |   15 |\n| A3GALT2 |     2 |    3 |    0 |    1 |   0 |   0 |    0 |  11 |    2 |   8 | ⋯ |    2 |    0 |    4 |    2 |    2 |    3 |    0 |    3 |     0 |    2 |\n\n",
            "text/html": [
              "<table class=\"dataframe\">\n",
              "<caption>A matrix: 6 × 153 of type int</caption>\n",
              "<thead>\n",
              "\t<tr><th></th><th scope=col>GSM2055791</th><th scope=col>GSM2055798</th><th scope=col>GSM2144557</th><th scope=col>GSM2144558</th><th scope=col>GSM2144559</th><th scope=col>GSM2144547</th><th scope=col>GSM2144545</th><th scope=col>GSM2144548</th><th scope=col>GSM2144546</th><th scope=col>GSM2144560</th><th scope=col>⋯</th><th scope=col>GSM3913453</th><th scope=col>GSM3913454</th><th scope=col>GSM3913455</th><th scope=col>GSM3913456</th><th scope=col>GSM3913457</th><th scope=col>GSM3913458</th><th scope=col>GSM3913459</th><th scope=col>GSM3913460</th><th scope=col>GSM3913461</th><th scope=col>GSM3913462</th></tr>\n",
              "</thead>\n",
              "<tbody>\n",
              "\t<tr><th scope=row>A1BG</th><td>  107</td><td>  41</td><td>  42</td><td>  99</td><td> 58</td><td> 66</td><td>  47</td><td> 27</td><td>  80</td><td> 34</td><td>⋯</td><td> 270</td><td>  71</td><td> 130</td><td>  96</td><td> 209</td><td> 191</td><td>  79</td><td> 121</td><td>  359</td><td>  89</td></tr>\n",
              "\t<tr><th scope=row>A1CF</th><td>   21</td><td>  15</td><td>   2</td><td>   5</td><td>  0</td><td>  0</td><td>   4</td><td>  1</td><td>  10</td><td>  2</td><td>⋯</td><td>  60</td><td>  70</td><td>  21</td><td>  15</td><td>  32</td><td>  55</td><td>  10</td><td>  21</td><td>   26</td><td>   9</td></tr>\n",
              "\t<tr><th scope=row>A2M</th><td>42680</td><td>4436</td><td>2339</td><td>2951</td><td>308</td><td>304</td><td>2377</td><td>768</td><td>3011</td><td>746</td><td>⋯</td><td>3641</td><td>2693</td><td>1565</td><td>2702</td><td>8764</td><td>4473</td><td>1274</td><td>7824</td><td>56712</td><td>5816</td></tr>\n",
              "\t<tr><th scope=row>A2ML1</th><td>   37</td><td> 343</td><td>  28</td><td>  36</td><td> 13</td><td>  9</td><td>  30</td><td>  9</td><td>  27</td><td> 13</td><td>⋯</td><td> 221</td><td>1252</td><td> 207</td><td>  58</td><td> 451</td><td>  48</td><td> 800</td><td> 259</td><td>   99</td><td>  24</td></tr>\n",
              "\t<tr><th scope=row>A2MP1</th><td>   29</td><td>   6</td><td>   6</td><td>   2</td><td>  0</td><td>  0</td><td>   8</td><td> 38</td><td>   3</td><td> 40</td><td>⋯</td><td>  24</td><td>  18</td><td>  16</td><td>  50</td><td>  64</td><td>  25</td><td>  14</td><td>  28</td><td>  167</td><td>  15</td></tr>\n",
              "\t<tr><th scope=row>A3GALT2</th><td>    2</td><td>   3</td><td>   0</td><td>   1</td><td>  0</td><td>  0</td><td>   0</td><td> 11</td><td>   2</td><td>  8</td><td>⋯</td><td>   2</td><td>   0</td><td>   4</td><td>   2</td><td>   2</td><td>   3</td><td>   0</td><td>   3</td><td>    0</td><td>   2</td></tr>\n",
              "</tbody>\n",
              "</table>\n"
            ]
          },
          "metadata": {
            "tags": []
          }
        }
      ]
    },
    {
      "cell_type": "code",
      "metadata": {
        "colab": {
          "base_uri": "https://localhost:8080/",
          "height": 17
        },
        "id": "hjP6dQ8WQuvH",
        "outputId": "26ef87ef-8f47-4b3b-8905-f9beeb18d2d7"
      },
      "source": [
        "setdiff(metadata_ArchS4$samples,colnames(expression)) # check for missing samples\n",
        "row.names(metadata_ArchS4) = metadata_ArchS4$samples\n",
        "fCountsData = expression\n",
        "fCountsData <- fCountsData[,match(metadata_ArchS4[,1], colnames(fCountsData))] "
      ],
      "execution_count": 52,
      "outputs": [
        {
          "output_type": "display_data",
          "data": {
            "text/plain": [
              "character(0)"
            ],
            "text/latex": "",
            "text/markdown": "",
            "text/html": [
              ""
            ]
          },
          "metadata": {
            "tags": []
          }
        }
      ]
    },
    {
      "cell_type": "markdown",
      "metadata": {
        "id": "IWeyI5KyvW5A"
      },
      "source": [
        "Perform DGE"
      ]
    },
    {
      "cell_type": "code",
      "metadata": {
        "id": "LypeoARnQuvH",
        "colab": {
          "base_uri": "https://localhost:8080/",
          "height": 780
        },
        "outputId": "f779fc37-8173-49c5-9d21-afedd4a528a5"
      },
      "source": [
        "# perform DGE\n",
        "design.formula = as.formula(\"~condition+series\")\n",
        "dds <- DESeqDataSetFromMatrix(countData = fCountsData,\n",
        "                              colData = metadata_ArchS4,\n",
        "                              design = design.formula)\n",
        "\n",
        "\n",
        "# FILTER FOR GENE EXPRESSION \n",
        "min.samples = 45\n",
        "keep <- rowSums(cpm(counts(dds)) >= 1) >= min.samples\n",
        "table(keep)\n",
        "dds <- dds[keep,]\n",
        "\n",
        "cpm = cpm(counts(dds), log = F)\n",
        "\n",
        "#DGE\n",
        "dga <- DESeq(object = dds, \n",
        "             test = \"Wald\", \n",
        "             fitType = \"parametric\", \n",
        "             betaPrior = FALSE,\n",
        "             minReplicatesForReplace = Inf)\n",
        "#Dispersion plot\n",
        "plotDispEsts(dga)"
      ],
      "execution_count": 53,
      "outputs": [
        {
          "output_type": "stream",
          "text": [
            "Warning message in DESeqDataSet(se, design = design, ignoreRank):\n",
            "“some variables in design formula are characters, converting to factors”\n"
          ],
          "name": "stderr"
        },
        {
          "output_type": "display_data",
          "data": {
            "text/plain": [
              "keep\n",
              "FALSE  TRUE \n",
              "16888 18350 "
            ]
          },
          "metadata": {
            "tags": []
          }
        },
        {
          "output_type": "stream",
          "text": [
            "estimating size factors\n",
            "\n",
            "estimating dispersions\n",
            "\n",
            "gene-wise dispersion estimates\n",
            "\n",
            "mean-dispersion relationship\n",
            "\n",
            "final dispersion estimates\n",
            "\n",
            "fitting model and testing\n",
            "\n",
            "30 rows did not converge in beta, labelled in mcols(object)$betaConv. Use larger maxit argument with nbinomWaldTest\n",
            "\n"
          ],
          "name": "stderr"
        },
        {
          "output_type": "display_data",
          "data": {
            "image/png": "[encoded data removed]",
            "text/plain": [
              "plot without title"
            ]
          },
          "metadata": {
            "tags": [],
            "image/png": {
              "width": 420,
              "height": 420
            }
          }
        }
      ]
    },
    {
      "cell_type": "code",
      "metadata": {
        "id": "mRHPw_x9QuvI",
        "colab": {
          "base_uri": "https://localhost:8080/",
          "height": 454
        },
        "outputId": "934c0cd3-534d-4a89-a12c-02573e1f5a38"
      },
      "source": [
        "#mycolors <- colorRampPalette(brewer.pal(8, \"Set2\"))(11)\n",
        "#mycolors = cols25(11)\n",
        "mycolors = rainbow(11)\n",
        "\n",
        "#PCA\n",
        "vsd <- vst(dga, blind=FALSE)\n",
        "main.factor = \"condition\"\n",
        "second.factor =\"series\"\n",
        "pcaData <- plotPCA(vsd, intgroup=c(main.factor,ifelse(nchar(second.factor)>0,second.factor,NULL)),returnData=TRUE)\n",
        "\n",
        "percentVar <- round(100 * attr(pcaData, \"percentVar\"))\n",
        "\n",
        "PCA = ggplot(pcaData, aes(PC1, PC2, shape = condition, color=series)) +\n",
        "geom_point(aes(shape = condition), size = 4, colour = \"black\") +\n",
        "geom_point(aes(colour=series, shape = condition), size=3) + \n",
        "#geom_point(size=4, aes(color=series, shape = condition)) +\n",
        "  xlab(paste0(\"PC1: \",percentVar[1],\"% variance\")) +\n",
        "  ylab(paste0(\"PC2: \",percentVar[2],\"% variance\")) + \n",
        "  coord_fixed() + ggtitle(\"PCA\")+theme(plot.title = element_text(hjust = 0.5)) +\n",
        "  theme_bw(base_size = 16) + #+ theme(legend.position = \"right\") +\n",
        "  geom_hline(yintercept=0, linetype=\"dashed\", color = \"darkgrey\") +\n",
        "  geom_vline(xintercept=0, linetype=\"dashed\", color = \"darkgrey\") +\n",
        "theme(plot.title = element_text(color=\"black\", size=26, face=\"bold.italic\"),\n",
        "      axis.text.x = element_text(angle = 0, face = \"bold\", color = \"black\", size=22, hjust =.5), \n",
        "      axis.title.x = element_text(face = \"bold\", color = \"black\", size = 24),\n",
        "      axis.text.y = element_text(angle = 0, face = \"bold\", color = \"black\", size=22),\n",
        "      axis.title.y = element_text(face = \"bold\", color = \"black\", size = 24),\n",
        "      legend.text = element_text(face = \"bold\", color = \"black\", size = 12),\n",
        "      legend.position=\"right\",\n",
        "      panel.background = element_rect(fill = \"white\",colour = \"black\", size = 1, linetype = \"solid\")) +\n",
        "scale_color_manual(values=mycolors) #+ scale_shape_manual(values = c(21,24))\n",
        "\n",
        "PCA\n",
        "pdf(paste('PCA.pdf',sep=''),width=8, height=8)\n",
        "plot(PCA)\n",
        "dev.off()"
      ],
      "execution_count": 54,
      "outputs": [
        {
          "output_type": "display_data",
          "data": {
            "text/plain": [
              "png \n",
              "  2 "
            ],
            "text/latex": "\\textbf{png:} 2",
            "text/markdown": "**png:** 2",
            "text/html": [
              "<strong>png:</strong> 2"
            ]
          },
          "metadata": {
            "tags": []
          }
        },
        {
          "output_type": "display_data",
          "data": {
            "image/png": "[encoded data removed]",
            "text/plain": [
              "plot without title"
            ]
          },
          "metadata": {
            "tags": [],
            "image/png": {
              "width": 420,
              "height": 420
            }
          }
        }
      ]
    },
    {
      "cell_type": "code",
      "metadata": {
        "id": "RColRRrYQuvI"
      },
      "source": [
        "y <- DGEList(counts=fCountsData, genes = row.names(fCountsData))\n",
        "# rpkm\n",
        "fCountsCPM = cpm(y, log=T)\n",
        "# filter for expression\n",
        "keep <- rowSums(cpm(y)>1)>=40\n",
        "yf <- y[keep,]\n",
        "\n",
        "# calculate 500 most variant genes and \n",
        "# save their counts in fCountsRPKMTOP\n",
        "N=500\n",
        "vary <- apply(fCountsCPM[keep,],1,var)\n",
        "vary_s <- sort(vary, decreasing = T)\n",
        "TOP_N <- names(vary_s[1:N])\n",
        "yTOP <-  y[TOP_N,]\n",
        "fCountsCPMTOP <- fCountsCPM[TOP_N,]"
      ],
      "execution_count": 55,
      "outputs": []
    },
    {
      "cell_type": "code",
      "metadata": {
        "colab": {
          "base_uri": "https://localhost:8080/",
          "height": 249
        },
        "id": "FUY_BjiSwHMI",
        "outputId": "6a5a7176-1e68-4ea6-d179-5359bcd516d7"
      },
      "source": [
        "length(unique((annotation_column)$series))"
      ],
      "execution_count": 56,
      "outputs": [
        {
          "output_type": "error",
          "ename": "ERROR",
          "evalue": "ignored",
          "traceback": [
            "Error in h(simpleError(msg, call)): error in evaluating the argument 'x' in selecting a method for function 'unique': object 'annotation_column' not found\nTraceback:\n",
            "1. unique((annotation_column)$series)",
            "2. .handleSimpleError(function (cond) \n . .Internal(C_tryCatchHelper(addr, 1L, cond)), \"object 'annotation_column' not found\", \n .     base::quote(unique((annotation_column)$series)))",
            "3. h(simpleError(msg, call))"
          ]
        }
      ]
    },
    {
      "cell_type": "code",
      "metadata": {
        "id": "x7duJ8OTQuvJ"
      },
      "source": [
        "annotation_column <- metadata_ArchS4[,3:dim(metadata_ArchS4)[2]-1]\n",
        "\n",
        " mycolors_c = wes_palette(\"FantasticFox1\", n = 3)[c(1,3)]\n",
        " names(mycolors_c) <- unique((annotation_column)$condition)\n",
        " mycolors_s = rainbow(11) #as.character(glasbey(10))\n",
        " names(mycolors_s) <- unique((annotation_column)$series)\n",
        " \n",
        " ann_colors = list(\n",
        "   condition = mycolors_c,\n",
        "   series = mycolors_s\n",
        " )\n",
        "\n",
        "\n",
        "#options(repr.plot.width=17, repr.plot.height=7)\n",
        "\n",
        "colors <- colorRampPalette( rev(brewer.pal(11, \"RdYlBu\")) )(255)\n",
        "#colors = magma(255)\n",
        "HP <- pheatmap::pheatmap(fCountsCPMTOP,\n",
        "                         scale = 'row',\n",
        "                         annotation_col = annotation_column,\n",
        "                         annotation_colors = ann_colors, \n",
        "                         cluster_rows = T, \n",
        "                         cluster_cols = T, \n",
        "                         main = 'Heatmap: 500 most variable genes - CPM',\n",
        "                         show_rownames = F,\n",
        "                         fontsize = 12, fontsize_row = 10, fontsize_col = 14, \n",
        "                         display_numbers = F, \n",
        "                         col=colors)"
      ],
      "execution_count": null,
      "outputs": []
    },
    {
      "cell_type": "code",
      "metadata": {
        "id": "WzMvLuERQuvJ"
      },
      "source": [
        "# tumor vs healthy\n",
        "alpha = 0.05\n",
        "                          \n",
        "res_TvsN <- results(dga, \n",
        "                    contrast = c(\"condition\",\"T\",\"N\"), \n",
        "                    cooksCutoff          = Inf,\n",
        "                    independentFiltering = TRUE,\n",
        "                    alpha                = alpha,\n",
        "                    pAdjustMethod        = \"BH\")\n",
        "\n",
        "res_TvsN = res_TvsN[order(res_TvsN$pvalue, decreasing = F),]\n",
        "summary(res_TvsN)\n",
        "\n",
        "dgeResults = list()\n",
        "dgeResults[['TvsN']] = res_TvsN"
      ],
      "execution_count": null,
      "outputs": []
    },
    {
      "cell_type": "code",
      "metadata": {
        "id": "vFJdkUvxQuvJ"
      },
      "source": [
        "for (i in names(dgeResults)) {\n",
        "condition = i\n",
        "results = as.data.frame(dgeResults[[i]])\n",
        "results$gene = 'unm'\n",
        "results[results$padj < alpha & !is.na(results$padj) & results$log2FoldChange > 0,]$gene = 'up'\n",
        "results[results$padj < alpha & !is.na(results$padj) & results$log2FoldChange < 0,]$gene = 'down'\n",
        "  \n",
        "results$gene <- factor(x = results$gene, levels = c(\"unm\", \"down\",\"up\"))\n",
        "    \n",
        "options(repr.plot.width=8, repr.plot.height=6)\n",
        "VP = ggplot(results) +\n",
        "geom_point(aes(x=log2FoldChange, y=-log10(padj), color = gene)) +\n",
        "ggtitle(paste(\"DGE - Vulcano Plot,\", condition)) +\n",
        "scale_color_manual(values = c('grey','red','dodgerblue2')) +\n",
        "geom_hline(yintercept=0, linetype=\"dashed\", color = \"darkgrey\") +\n",
        "geom_vline(xintercept=0, linetype=\"dashed\", color = \"darkgrey\") +\n",
        "theme(plot.title = element_text(color=\"black\", size=26, face=\"bold.italic\"),\n",
        "      axis.text.x = element_text(angle = 90, face = \"bold\", color = \"black\", size=22, hjust =1), \n",
        "      axis.title.x = element_text(face = \"bold\", color = \"black\", size = 24),\n",
        "      axis.text.y = element_text(angle = 0, face = \"bold\", color = \"black\", size=22),\n",
        "      axis.title.y = element_text(face = \"bold\", color = \"black\", size = 24),\n",
        "      legend.text = element_text(face = \"bold\", color = \"black\", size = 12),\n",
        "      legend.title = element_text(face = \"bold\", color = \"black\", size = 0),\n",
        "      legend.position=\"right\",\n",
        "      panel.background = element_rect(fill = \"white\",colour = \"black\", size = 1, linetype = \"solid\")) +\n",
        "labs(x = \"log2 fold change\", y = \"-log10 adjusted p-value\")   \n",
        "print(VP)\n",
        "  #  jpeg(paste(dir,'VulcanoPlot_',condition,'_outliers.jpg',sep=''),width=800, height=800, unit='px')\n",
        "    #plot(VP)\n",
        "   # dev.off()\n",
        "pdf(paste('VulcanoPlot_',condition,'.pdf',sep=''),width=8, height=8)\n",
        "plot(VP)\n",
        "dev.off()\n",
        " \n",
        "MAplot = ggplot(results) +\n",
        "geom_point(aes(x=baseMean, y=log2FoldChange, color = gene)) +\n",
        "xlim(c(0,1.e5)) +\n",
        "scale_x_continuous(trans='log10') +\n",
        "ggtitle(paste(\"DGE - MAPlot,\", condition)) +\n",
        "scale_color_manual(values = c('grey','red','dodgerblue2')) +\n",
        "geom_hline(yintercept=0, linetype=\"dashed\", color = \"darkgrey\") +\n",
        "geom_vline(xintercept=0, linetype=\"dashed\", color = \"darkgrey\") +\n",
        "theme(plot.title = element_text(color=\"black\", size=26, face=\"bold.italic\"),\n",
        "      axis.text.x = element_text(angle = 90, face = \"bold\", color = \"black\", size=22, hjust =1), \n",
        "      axis.title.x = element_text(face = \"bold\", color = \"black\", size = 24),\n",
        "      axis.text.y = element_text(angle = 0, face = \"bold\", color = \"black\", size=22),\n",
        "      axis.title.y = element_text(face = \"bold\", color = \"black\", size = 24),\n",
        "      legend.text = element_text(face = \"bold\", color = \"black\", size = 12),\n",
        "      legend.title = element_text(face = \"bold\", color = \"black\", size = 0),\n",
        "      legend.position=\"right\",\n",
        "      panel.background = element_rect(fill = \"white\",colour = \"black\", size = 1, linetype = \"solid\")) +\n",
        "labs(x = \"Mean expression\", y = \"log2 fold change\")  \n",
        "print(MAplot)\n",
        "    #jpeg(paste(dir,'MAplot_',condition,'_outliers.jpg',sep=''),width=800, height=800, unit='px')\n",
        "    #plot(MAplot)\n",
        "    #dev.off()\n",
        "pdf(paste('MAplot_',condition,'.pdf',sep=''),width=8, height=8)\n",
        "plot(MAplot)\n",
        "dev.off()\n",
        "}    \n",
        "#pdf(paste('VulcanoPlot_',condition,'.pdf',sep=''),width=8, height=8)\n",
        "#plot(VP)\n",
        "#dev.off()\n",
        "    "
      ],
      "execution_count": null,
      "outputs": []
    },
    {
      "cell_type": "code",
      "metadata": {
        "id": "DHpzZvzeQuvK"
      },
      "source": [
        "fdrUP = list()\n",
        "\n",
        "alpha = 0.05\n",
        "fdrUP = lapply(names(dgeResults), \n",
        "               function(x) row.names(dgeResults[[x]])[dgeResults[[x]]$padj <= alpha & \n",
        "                                        !is.na(dgeResults[[x]]$padj)&\n",
        "                                        dgeResults[[x]]$log2FoldChange > 0])\n",
        "names(fdrUP)= names(dgeResults) \n",
        "fdrDW = lapply(names(dgeResults), \n",
        "               function(x) row.names(dgeResults[[x]])[dgeResults[[x]]$padj <= alpha & \n",
        "                                        !is.na(dgeResults[[x]]$padj)&\n",
        "                                        dgeResults[[x]]$log2FoldChange < 0])\n",
        "names(fdrDW)= names(dgeResults)  "
      ],
      "execution_count": null,
      "outputs": []
    },
    {
      "cell_type": "code",
      "metadata": {
        "id": "-DeBJUAIQuvK"
      },
      "source": [
        "lengths(fdrUP)\n",
        "lengths(fdrDW)"
      ],
      "execution_count": null,
      "outputs": []
    },
    {
      "cell_type": "markdown",
      "metadata": {
        "id": "4wh-dOHuxjRE"
      },
      "source": [
        "Identify proteins on the surface"
      ]
    },
    {
      "cell_type": "code",
      "metadata": {
        "id": "mtZ-BaiFQuvL"
      },
      "source": [
        "# Surfaceome  \n",
        "\n",
        "for (i in names(dgeResults)) {\n",
        "    print(i)\n",
        "    \n",
        "    #Add mean expression in CPM \n",
        "    dgeResults[[i]]$Mean_CPM_N = rowMeans(cpm[row.names(dgeResults[[i]]), \n",
        "                                              row.names(metadata_ArchS4[metadata_ArchS4$condition=='N',])])\n",
        "    dgeResults[[i]]$Mean_CPM_T = rowMeans(cpm[row.names(dgeResults[[i]]), \n",
        "                                              row.names(metadata_ArchS4[metadata_ArchS4$condition=='T',])])\n",
        "    # surface protein\n",
        "    modulation = c('UP','DW')\n",
        "    fdr = list(UP = fdrUP[[i]], DW = fdrDW[[i]])\n",
        "    for (m in modulation) { \n",
        "        proteins = ST[ST$UniProt.gene %in% fdr[[m]],]\n",
        "        proteins = proteins[!is.na(proteins$Surfaceome.Label),]\n",
        "        print(table(proteins$Surfaceome.Label))\n",
        "        surface.proteins = proteins[proteins$Surfaceome.Label=='surface',]\n",
        "        surface.genes = surface.proteins$UniProt.gene\n",
        "        surfaceome_DGEresults = as.data.frame(dgeResults[[i]][surface.genes,])\n",
        "        surfaceome_DGEresults$GeneID = row.names(surfaceome_DGEresults)\n",
        "        surfaceome_DGEresults$ProteinID = surface.proteins$UniProt.name\n",
        "        surfaceome_DGEresults = surfaceome_DGEresults[order(surfaceome_DGEresults$log2FoldChange, decreasing = T),\n",
        "                                                     c('GeneID','ProteinID', \n",
        "                                                       'Mean_CPM_T','Mean_CPM_N',\n",
        "                                                       'log2FoldChange','padj')]\n",
        "        write.xlsx(surfaceome_DGEresults,\n",
        "               paste('DGE_BladderSurfaceome_',i,'_',m,'.xlsx',sep=''), \n",
        "               asTable = T, row.names= F) \n",
        "        write.xlsx(surface.proteins[surfaceome_DGEresults$ProteinID,], \n",
        "               paste('BladderSurfaceome_details',i,'_',m,'.xlsx', sep =''), \n",
        "               asTable = T, row.names= F)  \n",
        "        }\n",
        "    }"
      ],
      "execution_count": null,
      "outputs": []
    },
    {
      "cell_type": "markdown",
      "metadata": {
        "id": "KenkVrCnxq0V"
      },
      "source": [
        "Additional plotting"
      ]
    },
    {
      "cell_type": "code",
      "metadata": {
        "id": "WWBngErmxv1x"
      },
      "source": [
        ""
      ],
      "execution_count": null,
      "outputs": []
    },
    {
      "cell_type": "markdown",
      "metadata": {
        "id": "FUCrUEltQuvM"
      },
      "source": [
        "# Intersection"
      ]
    },
    {
      "cell_type": "code",
      "metadata": {
        "id": "LyVaiQcMQuvM"
      },
      "source": [
        "t = 0\n",
        "#Merge_up = read.xlsx('Include_TCGA/DGE_BladderSurfaceome_TvsN_UP.xlsx')\n",
        "GEO_up = read.xlsx('DGE_BladderSurfaceome_TvsN_UP.xlsx')\n",
        "TCGA_up = read.xlsx('../TCGA/DGE_BladderSurfaceome_TP_vs_NT_UP.xlsx')\n",
        "GSE133624_up = read.xlsx('GSE133624/DGE_BladderSurfaceome_TvsN_UP.xlsx')\n",
        "GSE97239_up = read.xlsx('GSE97239/DGE_BladderSurfaceome_TvsN_UP.xlsx')\n",
        "\n",
        "UP = list(#MergeAll = Merge_up[Merge_up$log2FoldChange >t,]$ProteinID,\n",
        "          MergeGEO = GEO_up[GEO_up$log2FoldChange >t,]$ProteinID, \n",
        "          TCGA = TCGA_up[TCGA_up$log2FoldChange >t,]$ProteinID, \n",
        "          GSE133624 = GSE133624_up[GSE133624_up$log2FoldChange >t,]$ProteinID, \n",
        "          GSE97239 = GSE97239_up[GSE97239_up$log2FoldChange >t,]$ProteinID )\n",
        "\n",
        "#Merge_dw = read.xlsx('Include_TCGA/DGE_BladderSurfaceome_TvsN_DW.xlsx')\n",
        "GEO_dw = read.xlsx('DGE_BladderSurfaceome_TvsN_DW.xlsx')\n",
        "TCGA_dw = read.xlsx('../TCGA/DGE_BladderSurfaceome_TP_vs_NT_DW.xlsx')\n",
        "GSE133624_dw = read.xlsx('GSE133624/DGE_BladderSurfaceome_TvsN_DW.xlsx')\n",
        "GSE97239_dw = read.xlsx('GSE97239/DGE_BladderSurfaceome_TvsN_DW.xlsx')\n",
        "\n",
        "DW = list(#MergeAll = Merge_dw[Merge_dw$log2FoldChange < -t,]$ProteinID,\n",
        "          MergeGEO = GEO_dw[GEO_dw$log2FoldChange < -t,]$ProteinID, \n",
        "          TCGA = TCGA_dw[TCGA_dw$log2FoldChange < -t,]$ProteinID,\n",
        "           GSE133624 =  GSE133624_dw[GSE133624_dw$log2FoldChange < -t,]$ProteinID,\n",
        "          GSE97239 = GSE97239_dw[GSE97239_dw$log2FoldChange < -t,]$ProteinID)\n",
        "\n",
        "\n",
        "\n"
      ],
      "execution_count": null,
      "outputs": []
    },
    {
      "cell_type": "code",
      "metadata": {
        "id": "tsr7N9BrQuvN"
      },
      "source": [
        "library(venn)\n",
        "venn(UP,\n",
        "     simplify=F, opacity = 0.3, box = FALSE, ilab=TRUE, \n",
        "     zcolor = rainbow(4), ilcs = 1.5, sncs = 2)"
      ],
      "execution_count": null,
      "outputs": []
    },
    {
      "cell_type": "code",
      "metadata": {
        "id": "4t3TdYXTQuvN"
      },
      "source": [
        "Venn_protein = Reduce(intersect,UP)"
      ],
      "execution_count": null,
      "outputs": []
    },
    {
      "cell_type": "code",
      "metadata": {
        "id": "MIw6_x3FQuvN"
      },
      "source": [
        "venn(list(GEO_UP = GEO_up[GEO_up$log2FoldChange >t,]$ProteinID, \n",
        "     TCGA_DOWN = TCGA_dw[TCGA_dw$log2FoldChange < -t,]$ProteinID,\n",
        "     GSE133624_DW =  GSE133624_dw[GSE133624_dw$log2FoldChange < -t,]$ProteinID,\n",
        "         GSE97239 = GSE97239_dw[GSE97239_dw$log2FoldChange < -t,]$ProteinID),\n",
        "     simplify=F, opacity = 0.3, box = FALSE, ilab=TRUE, \n",
        "     zcolor = rainbow(4), ilcs = 1.5, sncs = 2)\n",
        "\n",
        "venn(list(GEO_DW = GEO_dw[GEO_dw$log2FoldChange < -t,]$ProteinID, \n",
        "     TCGA_UP = TCGA_up[TCGA_up$log2FoldChange >t,]$ProteinID),\n",
        "     simplify=F, opacity = 0.3, box = FALSE, ilab=TRUE, \n",
        "     zcolor = rainbow(4), ilcs = 1.5, sncs = 2)"
      ],
      "execution_count": null,
      "outputs": []
    },
    {
      "cell_type": "code",
      "metadata": {
        "id": "vpImwzCfQuvO"
      },
      "source": [
        "mag41=Reduce(intersect, UP)\n",
        "mag21 = read.xlsx('../IntersectionVenn/mag21.xlsx')$ProteinID\n",
        "setdiff(mag41, mag21)"
      ],
      "execution_count": null,
      "outputs": []
    },
    {
      "cell_type": "markdown",
      "metadata": {
        "id": "AfklNf-8QuvO"
      },
      "source": [
        "# Analysis including TCGA"
      ]
    },
    {
      "cell_type": "code",
      "metadata": {
        "id": "3tNFoHmaQuvO"
      },
      "source": [
        "dir = 'Include_TCGA/'\n",
        "dir.create(dir)\n",
        "TCGAcount = read.table('../BLCA_TCGA_expression2.tsv')\n",
        "metadata_TCGA = read.table('../BLCA_TCGA_metadata.tsv', sep = '\\t')\n",
        "\n",
        "# check genes\n",
        "TCGAgenes = row.names(TCGAcount)\n",
        "#venn(list(TCGA= TCGAgenes, ARCHS4 = genes),  \n",
        "#     simplify=TRUE, opacity = 0.3, box = FALSE, ilab=TRUE, zcolor = c('blue','red'), ilcs = 1.5, sncs = 2)\n",
        "\n",
        "common_gene = intersect(genes, TCGAgenes)\n",
        "TCGA_common = TCGAcount[common_gene,]\n",
        "ARCHS4_common = fCountsData[common_gene,]  \n",
        "# matrix\n",
        "M = cbind(ARCHS4_common, TCGA_common)\n",
        "# metadata\n",
        "metadata_clean = data.frame(samples   = c(metadata_ArchS4$samples, as.character(metadata_TCGA$barcode)),\n",
        "                            condition = c(metadata_ArchS4$condition, substring(metadata_TCGA$shortLetterCode,1,1)),\n",
        "                            series    = c(metadata_ArchS4$series, rep(\"TCGA\", length(metadata_TCGA$barcode))))"
      ],
      "execution_count": null,
      "outputs": []
    },
    {
      "cell_type": "code",
      "metadata": {
        "id": "XjxF1VdvQuvP"
      },
      "source": [
        ""
      ],
      "execution_count": null,
      "outputs": []
    },
    {
      "cell_type": "code",
      "metadata": {
        "id": "bglsfZ2EQuvP"
      },
      "source": [
        "# perform DGE\n",
        "design.formula = as.formula(\"~condition+series\")\n",
        "dds <- DESeqDataSetFromMatrix(countData = M,\n",
        "                              colData = metadata_clean,\n",
        "                              design = design.formula)\n",
        "\n",
        "\n",
        "# FILTER FOR GENE EXPRESSION \n",
        "min.samples = 59\n",
        "keep <- rowSums(cpm(counts(dds)) >= 1) >= min.samples\n",
        "table(keep)\n",
        "dds <- dds[keep,]\n",
        "\n",
        "cpm = cpm(counts(dds), log = F)\n",
        "\n",
        "#DGE\n",
        "dga <- DESeq(object = dds, \n",
        "             test = \"Wald\", \n",
        "             fitType = \"parametric\", \n",
        "             betaPrior = FALSE,\n",
        "             minReplicatesForReplace = Inf)\n",
        "#Dispersion plot\n",
        "plotDispEsts(dga)"
      ],
      "execution_count": null,
      "outputs": []
    },
    {
      "cell_type": "code",
      "metadata": {
        "id": "IS029wXBQuvQ"
      },
      "source": [
        "#PCA\n",
        "vsd <- vst(dga, blind=FALSE)\n",
        "main.factor = \"condition\"\n",
        "second.factor =\"series\"\n",
        "pcaData <- plotPCA(vsd, intgroup=c(main.factor,ifelse(nchar(second.factor)>0,second.factor,NULL)),returnData=TRUE)\n",
        "\n",
        "percentVar <- round(100 * attr(pcaData, \"percentVar\"))\n",
        "\n",
        "PCA = ggplot(pcaData, aes(PC1, PC2, shape = condition, color=series)) +\n",
        "geom_point(aes(shape = condition), size = 4, colour = \"black\") +\n",
        "geom_point(aes(colour=series, shape = condition), size=3) + \n",
        "#geom_point(size=4, aes(color=series, shape = condition)) +\n",
        "  xlab(paste0(\"PC1: \",percentVar[1],\"% variance\")) +\n",
        "  ylab(paste0(\"PC2: \",percentVar[2],\"% variance\")) + \n",
        "  coord_fixed() + ggtitle(\"PCA\")+theme(plot.title = element_text(hjust = 0.5)) +\n",
        "  theme_bw(base_size = 16) + #+ theme(legend.position = \"right\") +\n",
        "  geom_hline(yintercept=0, linetype=\"dashed\", color = \"darkgrey\") +\n",
        "  geom_vline(xintercept=0, linetype=\"dashed\", color = \"darkgrey\") +\n",
        "theme(plot.title = element_text(color=\"black\", size=26, face=\"bold.italic\"),\n",
        "      axis.text.x = element_text(angle = 0, face = \"bold\", color = \"black\", size=22, hjust =.5), \n",
        "      axis.title.x = element_text(face = \"bold\", color = \"black\", size = 24),\n",
        "      axis.text.y = element_text(angle = 0, face = \"bold\", color = \"black\", size=22),\n",
        "      axis.title.y = element_text(face = \"bold\", color = \"black\", size = 24),\n",
        "      legend.text = element_text(face = \"bold\", color = \"black\", size = 12),\n",
        "      legend.position=\"right\",\n",
        "      panel.background = element_rect(fill = \"white\",colour = \"black\", size = 1, linetype = \"solid\")) +\n",
        "scale_color_manual(values=rainbow(12)) #+ scale_shape_manual(values = c(21,24))\n",
        "\n",
        "\n",
        "PCA\n",
        "pdf(paste(dir,'PCA.pdf',sep=''),width=8, height=8)\n",
        "plot(PCA)\n",
        "dev.off()"
      ],
      "execution_count": null,
      "outputs": []
    },
    {
      "cell_type": "code",
      "metadata": {
        "id": "pa-7jRj-QuvQ"
      },
      "source": [
        "# tumor vs healthy\n",
        "alpha = 0.05\n",
        "                          \n",
        "res_TvsN <- results(dga, \n",
        "                    contrast = c(\"condition\",\"T\",\"N\"), \n",
        "                    cooksCutoff          = Inf,\n",
        "                    independentFiltering = TRUE,\n",
        "                    alpha                = alpha,\n",
        "                    pAdjustMethod        = \"BH\")\n",
        "\n",
        "res_TvsN = res_TvsN[order(res_TvsN$pvalue, decreasing = F),]\n",
        "summary(res_TvsN)\n",
        "\n",
        "dgeResults = list()\n",
        "dgeResults[['TvsN']] = res_TvsN"
      ],
      "execution_count": null,
      "outputs": []
    },
    {
      "cell_type": "code",
      "metadata": {
        "id": "dbgiXKLGQuvQ"
      },
      "source": [
        "fdrUP = list()\n",
        "\n",
        "alpha = 0.05\n",
        "fdrUP = lapply(names(dgeResults), \n",
        "               function(x) row.names(dgeResults[[x]])[dgeResults[[x]]$padj <= alpha & \n",
        "                                        !is.na(dgeResults[[x]]$padj)&\n",
        "                                        dgeResults[[x]]$log2FoldChange > 0])\n",
        "names(fdrUP)= names(dgeResults) \n",
        "fdrDW = lapply(names(dgeResults), \n",
        "               function(x) row.names(dgeResults[[x]])[dgeResults[[x]]$padj <= alpha & \n",
        "                                        !is.na(dgeResults[[x]]$padj)&\n",
        "                                        dgeResults[[x]]$log2FoldChange < 0])\n",
        "names(fdrDW)= names(dgeResults)  "
      ],
      "execution_count": null,
      "outputs": []
    },
    {
      "cell_type": "code",
      "metadata": {
        "id": "acaeZ8rGQuvR"
      },
      "source": [
        "# Surfaceome  \n",
        "\n",
        "for (i in names(dgeResults)) {\n",
        "    print(i)\n",
        "    \n",
        "    #Add mean expression in CPM \n",
        "    dgeResults[[i]]$Mean_CPM_N = rowMeans(cpm[row.names(dgeResults[[i]]), \n",
        "                                              row.names(metadata_ArchS4[metadata_ArchS4$condition=='N',])])\n",
        "    dgeResults[[i]]$Mean_CPM_T = rowMeans(cpm[row.names(dgeResults[[i]]), \n",
        "                                              row.names(metadata_ArchS4[metadata_ArchS4$condition=='T',])])\n",
        "    # surface protein\n",
        "    modulation = c('UP','DW')\n",
        "    fdr = list(UP = fdrUP[[i]], DW = fdrDW[[i]])\n",
        "    for (m in modulation) { \n",
        "        proteins = ST[ST$UniProt.gene %in% fdr[[m]],]\n",
        "        proteins = proteins[!is.na(proteins$Surfaceome.Label),]\n",
        "        print(table(proteins$Surfaceome.Label))\n",
        "        surface.proteins = proteins[proteins$Surfaceome.Label=='surface',]\n",
        "        surface.genes = surface.proteins$UniProt.gene\n",
        "        surfaceome_DGEresults = as.data.frame(dgeResults[[i]][surface.genes,])\n",
        "        surfaceome_DGEresults$GeneID = row.names(surfaceome_DGEresults)\n",
        "        surfaceome_DGEresults$ProteinID = surface.proteins$UniProt.name\n",
        "        surfaceome_DGEresults = surfaceome_DGEresults[order(surfaceome_DGEresults$log2FoldChange, decreasing = T),\n",
        "                                                     c('GeneID','ProteinID', \n",
        "                                                       'baseMean','Mean_CPM_T','Mean_CPM_N',\n",
        "                                                       'log2FoldChange','lfcSE','stat','pvalue','padj')]\n",
        "        write.xlsx(surfaceome_DGEresults,\n",
        "               paste(dir,'DGE_BladderSurfaceome_',i,'_',m,'.xlsx',sep=''), \n",
        "               asTable = T, row.names= F) \n",
        "        write.xlsx(surface.proteins[surfaceome_DGEresults$ProteinID,], \n",
        "               paste(dir,'BladderSurfaceome_details',i,'_',m,'.xlsx', sep =''), \n",
        "               asTable = T, row.names= F)  \n",
        "        }\n",
        "    }"
      ],
      "execution_count": null,
      "outputs": []
    },
    {
      "cell_type": "code",
      "metadata": {
        "id": "NbNMNIqAQuvR"
      },
      "source": [
        "outersect <- function(x, y) {\n",
        "  sort(c(x[!x%in%y],\n",
        "         y[!y%in%x]))\n",
        "}\n",
        "\n",
        "single.l=list()\n",
        "only2.l = list()\n",
        "list_2_use = UP\n",
        "for (i in names(list_2_use)){\n",
        "    only1 = setdiff(list_2_use[[i]],unique(as.character(unlist(list_2_use[outersect(names(list_2_use),i)]))))\n",
        "    single.l[[i]] = only1\n",
        "    for (j in names(list_2_use)) {\n",
        "        if (j!=i) {\n",
        "            only2 = setdiff(intersect(list_2_use[[i]],list_2_use[[j]]),Reduce(intersect, list_2_use))\n",
        "            only2.l[[paste(i,j)]] = only2\n",
        "        }\n",
        "    }\n",
        "}\n",
        "\n",
        "only1_UP = single.l\n",
        "only2_UP = only2.l\n",
        "\n",
        "single.l=list()\n",
        "only2.l = list()\n",
        "list_2_use = DW\n",
        "for (i in names(list_2_use)){\n",
        "    only1 = setdiff(list_2_use[[i]],unique(as.character(unlist(list_2_use[outersect(names(list_2_use),i)]))))\n",
        "    single.l[[i]] = only1\n",
        "    for (j in names(list_2_use)) {\n",
        "        if (j!=i) {\n",
        "            only2 = setdiff(intersect(list_2_use[[i]],list_2_use[[j]]),Reduce(intersect, list_2_use))\n",
        "            only2.l[[paste(i,j)]] = only2\n",
        "        }\n",
        "    }\n",
        "}\n",
        "\n",
        "only1_DW = single.l\n",
        "only2_DW = only2.l"
      ],
      "execution_count": null,
      "outputs": []
    },
    {
      "cell_type": "markdown",
      "metadata": {
        "id": "kafa8PjeQuvR"
      },
      "source": [
        "# Function to reanalize results from 1 series"
      ]
    },
    {
      "cell_type": "code",
      "metadata": {
        "id": "NZqeYP3NQuvR"
      },
      "source": [
        "# function to analyze separately a single GEO series\n",
        "GSE_DGE = function(count, metadata, Series, alpha = 0.05) {\n",
        "    dir = paste(Series,'/',sep ='')\n",
        "    dir.create(dir)\n",
        "    metadata_s = metadata[metadata$series == Series,]\n",
        "    count_s = count[,metadata_s$samples]\n",
        "    design.formula = as.formula(\"~condition\")\n",
        "    \n",
        "    dds <- DESeqDataSetFromMatrix(countData = count_s,\n",
        "                                  colData = metadata_s,\n",
        "                                  design = design.formula)\n",
        "    \n",
        "    min.sample = as.numeric(table(metadata_s$condition)[1])\n",
        "    print(min.sample)\n",
        "    keep <- rowSums(cpm(counts(dds)) >= 1) >= min.sample\n",
        "    print(table(keep))\n",
        "    dds <- dds[keep,]\n",
        "    \n",
        "    cpm = cpm(counts(dds), log = F)\n",
        "    \n",
        "    #DGE\n",
        "    dga <- DESeq(object = dds, \n",
        "             test = \"Wald\", \n",
        "             fitType = \"parametric\", \n",
        "             betaPrior = FALSE,\n",
        "             minReplicatesForReplace = Inf)\n",
        "    \n",
        "    dgeResults = list()\n",
        "    dgeResults[['TvsN']] <- results(dga, \n",
        "                    contrast = c(\"condition\",\"T\",\"N\"), \n",
        "                    cooksCutoff          = Inf,\n",
        "                    independentFiltering = TRUE,\n",
        "                    alpha                = alpha,\n",
        "                    pAdjustMethod        = \"BH\")\n",
        "\n",
        "    dgeResults[['TvsN']] = dgeResults[['TvsN']][order(dgeResults[['TvsN']]$pvalue, decreasing = F),]\n",
        "    print(summary(dgeResults[['TvsN']]))\n",
        "    fdrUP = list()\n",
        "    fdrUP = lapply(names(dgeResults), \n",
        "               function(x) row.names(dgeResults[[x]])[dgeResults[[x]]$padj <= alpha & \n",
        "                                        !is.na(dgeResults[[x]]$padj)&\n",
        "                                        dgeResults[[x]]$log2FoldChange > 0])\n",
        "    names(fdrUP)= names(dgeResults) \n",
        "    fdrDW = lapply(names(dgeResults), \n",
        "               function(x) row.names(dgeResults[[x]])[dgeResults[[x]]$padj <= alpha & \n",
        "                                        !is.na(dgeResults[[x]]$padj)&\n",
        "                                        dgeResults[[x]]$log2FoldChange < 0])\n",
        "    names(fdrDW)= names(dgeResults)  \n",
        "    for (i in names(dgeResults)) {\n",
        "    print(i)\n",
        "    \n",
        "    #Add mean expression in CPM \n",
        "    dgeResults[[i]]$Mean_CPM_N = rowMeans(cpm[row.names(dgeResults[[i]]), \n",
        "                                              row.names(metadata_s[metadata_s$condition=='N',])])\n",
        "    dgeResults[[i]]$Mean_CPM_T = rowMeans(cpm[row.names(dgeResults[[i]]), \n",
        "                                              row.names(metadata_s[metadata_s$condition=='T',])])\n",
        "    # surface protein\n",
        "    modulation = c('UP','DW')\n",
        "    fdr = list(UP = fdrUP[[i]], DW = fdrDW[[i]])\n",
        "    for (m in modulation) { \n",
        "        proteins = ST[ST$UniProt.gene %in% fdr[[m]],]\n",
        "        proteins = proteins[!is.na(proteins$Surfaceome.Label),]\n",
        "        print(table(proteins$Surfaceome.Label))\n",
        "        surface.proteins = proteins[proteins$Surfaceome.Label=='surface',]\n",
        "        surface.genes = surface.proteins$UniProt.gene\n",
        "        surfaceome_DGEresults = as.data.frame(dgeResults[[i]][surface.genes,])\n",
        "        surfaceome_DGEresults$GeneID = row.names(surfaceome_DGEresults)\n",
        "        surfaceome_DGEresults$ProteinID = surface.proteins$UniProt.name\n",
        "        surfaceome_DGEresults = surfaceome_DGEresults[order(surfaceome_DGEresults$log2FoldChange, decreasing = T),\n",
        "                                                     c('GeneID','ProteinID', \n",
        "                                                       'Mean_CPM_T','Mean_CPM_N',\n",
        "                                                       'log2FoldChange','padj')]\n",
        "        write.xlsx(surfaceome_DGEresults,\n",
        "               paste(dir,'DGE_BladderSurfaceome_',i,'_',m,'.xlsx',sep=''), \n",
        "               asTable = T, row.names= F) \n",
        "        write.xlsx(surface.proteins[surfaceome_DGEresults$ProteinID,], \n",
        "               paste(dir,'BladderSurfaceome_details',i,'_',m,'.xlsx', sep =''), \n",
        "               asTable = T, row.names= F)  \n",
        "        }\n",
        "    }\n",
        "                   return(dgeResults[[i]])\n",
        "}"
      ],
      "execution_count": null,
      "outputs": []
    },
    {
      "cell_type": "code",
      "metadata": {
        "id": "BVa0PsAGQuvS"
      },
      "source": [
        "# 3vs3\n",
        "GSE_DGE(count = fCountsData, metadata = metadata_ArchS4, Series = 'GSE97239')\n",
        "# Dr Stay\n",
        "GSE_DGE(count = fCountsData, metadata = metadata_ArchS4, Series = 'GSE133624')"
      ],
      "execution_count": null,
      "outputs": []
    },
    {
      "cell_type": "markdown",
      "metadata": {
        "id": "3VoQDfafQuvS"
      },
      "source": [
        "# Summarise results"
      ]
    },
    {
      "cell_type": "code",
      "metadata": {
        "id": "H3KLhPzoQuvT"
      },
      "source": [
        "# threshold \n",
        "t = 0\n",
        "# import UP results in dataframe\n",
        "GEO_up       = read.xlsx('DGE_BladderSurfaceome_TvsN_UP.xlsx')\n",
        "TCGA_up      = read.xlsx('../TCGA/DGE_BladderSurfaceome_TP_vs_NT_UP.xlsx')\n",
        "GSE133624_up = read.xlsx('GSE133624/DGE_BladderSurfaceome_TvsN_UP.xlsx')\n",
        "NMIBC_up = read.xlsx('../GSE133624_Archs4/DGE_BladderSurfaceome_NMIBC_vs_CTL_UP.xlsx')\n",
        "MIBC_up = read.xlsx('../GSE133624_Archs4/DGE_BladderSurfaceome_MIBC_vs_CTL_UP.xlsx')\n",
        "GSE97239_up  = read.xlsx('GSE97239/DGE_BladderSurfaceome_TvsN_UP.xlsx')\n",
        "\n",
        "UP_list = list(MergeGEO   = GEO_up,\n",
        "               TCGA       = TCGA_up,\n",
        "               GSE97239   = GSE97239_up,\n",
        "               GSE133624  = GSE133624_up,\n",
        "               MIBCvsCTL  = MIBC_up,\n",
        "               NMIBCvsCTL = NMIBC_up)\n",
        "               \n",
        "# save ProteinID in a list\n",
        "UP_Proteins = list(MergeGEO   = GEO_up[GEO_up$log2FoldChange > t,]$ProteinID, \n",
        "                   TCGA       = TCGA_up[TCGA_up$log2FoldChange > t,]$ProteinID, \n",
        "                   GSE133624  = GSE133624_up[GSE133624_up$log2FoldChange > t,]$ProteinID, \n",
        "                   GSE97239   = GSE97239_up[GSE97239_up$log2FoldChange > t,]$ProteinID,\n",
        "                   MIBCvsCTL  = MIBC_up[MIBC_up$log2FoldChange > t,]$ProteinID,\n",
        "                   NMIBCvsCTL = NMIBC_up[NMIBC_up$log2FoldChange > t,]$ProteinID)\n",
        "                   \n",
        "\n",
        "\n",
        "GEO_dw       = read.xlsx('DGE_BladderSurfaceome_TvsN_DW.xlsx')\n",
        "TCGA_dw      = read.xlsx('../TCGA/DGE_BladderSurfaceome_TP_vs_NT_DW.xlsx')\n",
        "GSE133624_dw = read.xlsx('GSE133624/DGE_BladderSurfaceome_TvsN_DW.xlsx')\n",
        "GSE97239_dw  = read.xlsx('GSE97239/DGE_BladderSurfaceome_TvsN_DW.xlsx')\n",
        "NMIBC_dw = read.xlsx('../GSE133624_Archs4/DGE_BladderSurfaceome_NMIBC_vs_CTL_DW.xlsx')\n",
        "MIBC_dw = read.xlsx('../GSE133624_Archs4/DGE_BladderSurfaceome_MIBC_vs_CTL_DW.xlsx')\n",
        "\n",
        "DW_list = list(MergeGEO   = GEO_dw,\n",
        "               TCGA       = TCGA_dw,\n",
        "               GSE97239   = GSE97239_dw,\n",
        "               GSE133624  = GSE133624_dw,\n",
        "               MIBCvsCTL  = MIBC_dw,\n",
        "               NMIBCvsCTL = NMIBC_dw)\n",
        "\n",
        "DW_Proteins = list(MergeGEO   = GEO_dw[GEO_dw$log2FoldChange < -t,]$ProteinID, \n",
        "                   TCGA       = TCGA_dw[TCGA_dw$log2FoldChange < -t,]$ProteinID,\n",
        "                   GSE133624  = GSE133624_dw[GSE133624_dw$log2FoldChange < -t,]$ProteinID,\n",
        "                   GSE97239   = GSE97239_dw[GSE97239_dw$log2FoldChange < -t,]$ProteinID,\n",
        "                   MIBCvsCTL  = MIBC_dw[MIBC_dw$log2FoldChange < -t,]$ProteinID,\n",
        "                   NMIBCvsCTL = NMIBC_dw[NMIBC_dw$log2FoldChange < -t,]$ProteinID)\n",
        "\n",
        "\n"
      ],
      "execution_count": null,
      "outputs": []
    },
    {
      "cell_type": "code",
      "metadata": {
        "id": "LmePc8YPQuvT"
      },
      "source": [
        "pdf(paste('Venn_intersection_UP.pdf',sep=''),width=8, height=8)\n",
        "venn(UP_Proteins[1:4],\n",
        "     simplify=T, opacity = 0.3, box = FALSE, ilab=TRUE, ellipse = F, \n",
        "     zcolor = rainbow(4), ilcs = 1.5, sncs = 1.5)\n",
        "\n",
        "dev.off()"
      ],
      "execution_count": null,
      "outputs": []
    },
    {
      "cell_type": "code",
      "metadata": {
        "id": "kypZ9qcLQuvT"
      },
      "source": [
        "pdf(paste('Venn_intersection_DW.pdf',sep=''),width=8, height=8)\n",
        "venn(DW_Proteins[1:4],\n",
        "     simplify=T, opacity = 0.3, box = FALSE, ilab=TRUE, ellipse = F, \n",
        "     zcolor = rainbow(4), ilcs = 1.5, sncs = 1.5)\n",
        "\n",
        "dev.off()"
      ],
      "execution_count": null,
      "outputs": []
    },
    {
      "cell_type": "code",
      "metadata": {
        "id": "bTG8TOX-QuvU"
      },
      "source": [
        "venn(list(GEO_UP       = GEO_up[GEO_up$log2FoldChange >t,]$ProteinID, \n",
        "          TCGA_DOWN    = TCGA_dw[TCGA_dw$log2FoldChange < -t,]$ProteinID,\n",
        "          GSE133624_DW = GSE133624_dw[GSE133624_dw$log2FoldChange < -t,]$ProteinID,\n",
        "          GSE97239_DW  = GSE97239_dw[GSE97239_dw$log2FoldChange < -t,]$ProteinID),\n",
        "     simplify=TRUE, opacity = 0.3, box = FALSE,  ilab=TRUE,\n",
        "     zcolor = rainbow(4), ilcs = 1.5, sncs = 1.5)\n",
        "\n",
        "venn(list(GEO_DW       = GEO_dw[GEO_dw$log2FoldChange < -t,]$ProteinID, \n",
        "          TCGA_UP      = TCGA_up[TCGA_up$log2FoldChange >t,]$ProteinID,\n",
        "          GSE133624_UP = GSE133624_up[GSE133624_up$log2FoldChange > t,]$ProteinID,\n",
        "          GSE97239_UP  = GSE97239_up[GSE97239_up$log2FoldChange > t,]$ProteinID),\n",
        "     simplify=TRUE, opacity = 0.3, box = FALSE, ilab=TRUE, \n",
        "     zcolor = rainbow(4), ilcs = 1.5, sncs = 1.5)"
      ],
      "execution_count": null,
      "outputs": []
    },
    {
      "cell_type": "code",
      "metadata": {
        "id": "RL3nBM-8QuvU"
      },
      "source": [
        "table(Results_GEO$ProteinID %in% UP_Proteins[['TCGA']])"
      ],
      "execution_count": null,
      "outputs": []
    },
    {
      "cell_type": "code",
      "metadata": {
        "id": "ezM4I3e8QuvV"
      },
      "source": [
        "outersect <- function(x, y) {\n",
        "  sort(c(x[!x%in%y],\n",
        "         y[!y%in%x]))\n",
        "}\n",
        "\n",
        "single.l=list()\n",
        "list_2_use = list(GEO_UP       = GEO_up[GEO_up$log2FoldChange >t,]$ProteinID, \n",
        "                  TCGA_DOWN    = TCGA_dw[TCGA_dw$log2FoldChange < -t,]$ProteinID,\n",
        "                  GSE133624_DW = GSE133624_dw[GSE133624_dw$log2FoldChange < -t,]$ProteinID,\n",
        "                  GSE97239_DW  = GSE97239_dw[GSE97239_dw$log2FoldChange < -t,]$ProteinID)\n",
        "for (i in names(list_2_use)){\n",
        "    only1 = setdiff(list_2_use[[i]],unique(as.character(unlist(list_2_use[outersect(names(list_2_use),i)]))))\n",
        "    single.l[[i]] = only1\n",
        "}\n",
        "\n",
        "Geo_UP_only = single.l[['GEO_UP']]\n",
        "row.names(GEO_up) <- GEO_up$ProteinID\n",
        "\n",
        "Results_GEO = GEO_up[Geo_UP_only,c('GeneID','ProteinID','Mean_CPM_T','Mean_CPM_N','log2FoldChange','padj')]\n",
        "Results_GEO$inTCGA = Results_GEO$ProteinID %in% UP_Proteins[['TCGA']]\n",
        "Results_GEO$inGSE133624 = Results_GEO$ProteinID %in% UP_Proteins[['GSE133624']]\n",
        "Results_GEO$MIBCvsCTL = Results_GEO$ProteinID %in% UP_Proteins[['MIBCvsCTL']]\n",
        "Results_GEO$NMIBCvsCTL = Results_GEO$ProteinID %in% UP_Proteins[['NMIBCvsCTL']]\n",
        "Results_GEO$inGSE97239 = Results_GEO$ProteinID %in% UP_Proteins[['GSE97239']]\n",
        "write.xlsx(Results_GEO, 'Results_GEO_UP.xlsx', asTable = T, row.names = F)\n"
      ],
      "execution_count": null,
      "outputs": []
    },
    {
      "cell_type": "markdown",
      "metadata": {
        "id": "J32l-k2DQuvV"
      },
      "source": [
        "# Annotation"
      ]
    },
    {
      "cell_type": "code",
      "metadata": {
        "id": "NYETaPBAQuvV"
      },
      "source": [
        "users = c('maurizio.aurora','tascini.annasofia')\n",
        "user = users[2]\n",
        "Rdir = \"6_IntersectionProteins/\"\n",
        "\n",
        "lf <- list.files(paste(\"/Users/tascini.annasofia/Dropbox (HSR Global)/WORKSPACE/Menarini/Menarini_BladderSurfaceome/Results/\",\n",
        "                 Rdir,sep=''), \n",
        "                 pattern=glob2rx(\"DGE_*.xlsx\"))\n",
        "\n",
        "print(paste0(\"List of files: \", lf))\n",
        "\n",
        "for (file in lf) {\n",
        "  \n",
        "  filename = tools::file_path_sans_ext(file)\n",
        "  #filename = \"DGE_BladderSurfaceome_TvsN_DW.xlsx\"\n",
        "  print(paste0(\"File name: \", filename))\n",
        "  \n",
        "  infile <- paste(\"/Users/\",user,\"/Dropbox (HSR Global)/WORKSPACE/Menarini/Menarini_BladderSurfaceome/Results/\",\n",
        "                  Rdir,\n",
        "                  filename,\".xlsx\",sep=\"\")\n",
        "  #print(paste0(\"Input file: \", infile))\n",
        "  outfile <- paste(\"/Users/\",user,\"/Dropbox (HSR Global)/WORKSPACE/Menarini/Menarini_BladderSurfaceome/Results/\",\n",
        "                   Rdir,\n",
        "                   filename,\".description.xlsx\",sep=\"\")\n",
        "  \n",
        "  \n",
        "  #read dge file\n",
        "  #DGE <- read.xlsx(\"/Users/maurizio.aurora/Dropbox (HSR Global)/WORKSPACE/Menarini/Menarini_BladderSurfaceome/DGE_BladderSurfaceome_MIBC_vs_CTL_DW_GSE133624_Archs4.xlsx\")\n",
        "  DGE <- read.xlsx(infile)\n",
        "  #colnames(DGE) = c(\"GeneID\",\"baseMean\",\"log2FoldChange\",\"lfcSE\",\"stat\",\"pvalue\",\"padj\",\"Mean_TP\",\"Mean_NT\",\"ProteinID\")\n",
        "  \n",
        "  \n",
        "  ANNOTATE <- function(annotation, DGE) {\n",
        "    \n",
        "    #annotation=\"KEGG_2019_Human.txt\"\n",
        "    #annoname = tools::file_path_sans_ext(\"KEGG_2019_Human.txt\")\n",
        "    annoname = tools::file_path_sans_ext(annotation)\n",
        "    print(annoname)\n",
        "    inanno <- paste(\"/Users/\",user,\"/Dropbox (HSR Global)/WORKSPACE/Menarini/Menarini_BladderSurfaceome/Annotation/\",\n",
        "                    annotation,sep=\"\")\n",
        "    annotation_table=read.delim(inanno, header = FALSE, sep= \"\\t\", fill = TRUE)\n",
        "    head(annotation_table$V3)\n",
        "    tail(annotation_table$V1, 1)\n",
        "    annotation_table_no_v1 = subset(annotation_table, select = -c(V1))\n",
        "    colNames = colnames(annotation_table_no_v1) # could be any number of column names here\n",
        "    head(annotation_table_no_v1)\n",
        "    #annotation_table$test = apply(annotation_table_no_v1[,colNames, drop = F], MARGIN = 1, FUN = function(i) paste(i, collapse = \" \"))\n",
        "    annotation_table['test']=col_concat(annotation_table_no_v1, sep = \" \")\n",
        "    annotation_table['GeneID'] <- trimws(annotation_table$test, which = c(\"both\"))\n",
        "    #annotation_table['GeneID'] <- trimws(annotation_table$GeneID, which = c(\"left\"))\n",
        "    #annotation_table['V1'] <- trimws(annotation_table$V1, which = c(\"left\"))\n",
        "    head(annotation_table)\n",
        "    head(annotation_table$V1)\n",
        "    annotation_table_sub=annotation_table[,c(\"V1\",\"GeneID\")]\n",
        "    colnames(annotation_table_sub)  \n",
        "    head(annotation_table_sub)\n",
        "    exploded = separate_rows(annotation_table_sub, GeneID, sep = \" \", convert = FALSE)\n",
        "    tail(exploded, 2)\n",
        "    #group by gene.. that is: one gene x row with associated all the descriptions (space separated)\n",
        "    grouped  <- exploded %>%\n",
        "      group_by(GeneID) %>%\n",
        "      summarise(temp = toString(V1)) %>%\n",
        "      ungroup()\n",
        "    \n",
        "    colnames(grouped)=c(\"GeneID\",annoname)\n",
        "\n",
        "    merged <- merge(DGE, grouped, by=\"GeneID\", all.x = TRUE)\n",
        "    \n",
        "    merged_subset = subset(merged, select =c(\"GeneID\",annoname))\n",
        "    return(merged_subset)\n",
        "  }\n",
        "  \n",
        "  Kegg=ANNOTATE(\"KEGG_2019_Human.txt\", DGE)\n",
        "  Omim_Disease= ANNOTATE(\"OMIM_Disease.txt\", DGE)\n",
        "  OMIM_Expanded= ANNOTATE(\"OMIM_Expanded.txt\", DGE)\n",
        "  ClinVar_2019= ANNOTATE(\"ClinVar_2019.txt\", DGE)  \n",
        "  Jensen_DISEASES= ANNOTATE(\"Jensen_DISEASES.txt\", DGE)   \n",
        "  WikiPathways_2019_Human= ANNOTATE(\"WikiPathways_2019_Human.txt\", DGE)  \n",
        "  \n",
        "  m0=merge(DGE, Kegg, by=\"GeneID\", all.x = TRUE)\n",
        "  m1=merge(m0, Omim_Disease, by=\"GeneID\", all.x = TRUE)\n",
        "  m2=merge(m1, OMIM_Expanded, by=\"GeneID\", all.x = TRUE)\n",
        "  m3=merge(m2, ClinVar_2019, by=\"GeneID\", all.x = TRUE)\n",
        "  m4=merge(m3, Jensen_DISEASES, by=\"GeneID\", all.x = TRUE)\n",
        "  m5=merge(m4, WikiPathways_2019_Human, by=\"GeneID\", all.x = TRUE)\n",
        "  head(m5)\n",
        "    \n",
        "  PD = ST[ST$UniProt.gene %in% m5$GeneID,] \n",
        "  PD_sub = PD[,c('UniProt.gene','UniProt.description',\n",
        "                                    'Surfaceome.Label',\n",
        "                                    'Membranome.Almen.main-class','Membranome.Almen.sub-class',\n",
        "                                    'UniProt.subcellular','UniProt.keywords','COMPARTMENTS.link',\n",
        "                                    'DrugBank.approved.drug.IDs')]\n",
        "    colnames(PD_sub) = c('GeneID','Description',\n",
        "                                    'Surfaceome.Label',\n",
        "                                    'Almen.main-class','Almen.sub-class',\n",
        "                                    'UniProt.subcellular','UniProt.keywords','COMPARTMENTS',\n",
        "                                    'DrugBank.approved.drug.IDs')  \n",
        "    details_merge = merge(m5,PD_sub, by = 'GeneID',all.x = TRUE)\n",
        "    \n",
        "    write.xlsx(details_merge, outfile, rownames = F, asTable= T)\n",
        "\n",
        "  #write.xlsx(m5,file=sub(pattern=\".txt$\", replacement=\"_test.txt\", x=outfile, asTable = T))\n",
        "\n",
        "}\n"
      ],
      "execution_count": null,
      "outputs": []
    },
    {
      "cell_type": "code",
      "metadata": {
        "id": "OmFJNZnwQuvV"
      },
      "source": [
        "mag43 = Reduce(intersect, UP_Proteins[1:4])\n",
        "mag43_l = list()\n",
        "for (set in names(UP_list)) {\n",
        "    mag43_l[[set]] = UP_list[[set]][UP_list[[set]]$ProteinID %in% mag43, ]\n",
        "}\n",
        "write.xlsx(mag43_l, 'Results_Intersection_43.xlsx', asTable = T, row.names = F)"
      ],
      "execution_count": null,
      "outputs": []
    },
    {
      "cell_type": "code",
      "metadata": {
        "id": "Hb3gTRd3QuvW"
      },
      "source": [
        "df = data.frame()\n",
        "for (i in names(mag43_l[1:4])) {\n",
        "    print(i)\n",
        "    df.tmp =  as.data.frame(mag43_l[i])\n",
        "    df.tmp$study = i\n",
        "    colnames(df.tmp) = c('GeneID','ProteinID','Mean_CPM_T','Mean_CPM_N','log2FoldChange','padj', 'study')\n",
        "    df = rbind(df, df.tmp)\n",
        "}\n",
        "\n",
        "#df$study <- factor(x = df$study, levels = c(\"MergeGEO\", 'TCGA', \"GSE97239\", \"GSE133624\", \"MIBCvsCTL\",\"NMIBCvsCTL\" ))\n",
        "df$study <- factor(x = df$study, levels = c(\"MergeGEO\", 'TCGA', \"GSE133624\",\"GSE97239\"))\n",
        "mag_plot <- ggplot(df, aes(x = GeneID, y = log2FoldChange, fill = study)) +\n",
        "geom_bar(stat=\"identity\", color = 'black', position=position_dodge()) + \n",
        "theme(plot.title = element_text(color=\"black\", size=26, face=\"bold.italic\"),\n",
        "      axis.text.x = element_text(angle = 90, color = \"black\", size=18, vjust = .5, hjust =1), \n",
        "      axis.title.x = element_text(face = \"bold\", color = \"black\", size = 18),\n",
        "      axis.text.y = element_text(angle = 0, face = \"bold\", color = \"black\", size=18),\n",
        "      axis.title.y = element_text(face = \"bold\", color = \"black\", size = 18),\n",
        "      legend.text = element_text(face = \"bold\", color = \"black\", size = 16),\n",
        "      legend.position=\"top\",\n",
        "      panel.background = element_rect(fill = \"white\",colour = \"black\", size = 1, linetype = \"solid\")) +\n",
        "labs(x = \"Gene\", y = \"LogFC\") + \n",
        "scale_fill_manual(values = rainbow(4))\n",
        "\n",
        "mag_plot\n",
        "pdf(paste('magic43_logFC.pdf',sep=''),width=16, height=4)\n",
        "plot(mag_plot)\n",
        "dev.off()"
      ],
      "execution_count": null,
      "outputs": []
    },
    {
      "cell_type": "code",
      "metadata": {
        "id": "Po4_oNciQuvW"
      },
      "source": [
        "outersect <- function(x, y) {\n",
        "  sort(c(x[!x%in%y],\n",
        "         y[!y%in%x]))\n",
        "}\n",
        "\n",
        "single.l=list()\n",
        "list_2_use = list(GEO_DW       = GEO_dw[GEO_dw$log2FoldChange < -t,]$ProteinID, \n",
        "                  TCGA_UP    = TCGA_up[TCGA_up$log2FoldChange > t,]$ProteinID,\n",
        "                  GSE133624_UP = GSE133624_up[GSE133624_up$log2FoldChange > t,]$ProteinID,\n",
        "                  GSE97239_UP  = GSE97239_up[GSE97239_up$log2FoldChange > t,]$ProteinID)\n",
        "for (i in names(list_2_use)){\n",
        "    only1 = setdiff(list_2_use[[i]],unique(as.character(unlist(list_2_use[outersect(names(list_2_use),i)]))))\n",
        "    single.l[[i]] = only1\n",
        "}\n",
        "\n",
        "Geo_DW_only = single.l[['GEO_DW']]\n",
        "row.names(GEO_dw) <- GEO_dw$ProteinID\n",
        "\n",
        "Results_GEO = GEO_dw[Geo_DW_only,c('GeneID','ProteinID','Mean_CPM_T','Mean_CPM_N','log2FoldChange','padj')]\n",
        "Results_GEO$inTCGA = Results_GEO$ProteinID %in% DW_Proteins[['TCGA']]\n",
        "Results_GEO$inGSE133624 = Results_GEO$ProteinID %in% DW_Proteins[['GSE133624']]\n",
        "Results_GEO$MIBCvsCTL = Results_GEO$ProteinID %in% DW_Proteins[['MIBCvsCTL']]\n",
        "Results_GEO$NMIBCvsCTL = Results_GEO$ProteinID %in% DW_Proteins[['NMIBCvsCTL']]\n",
        "Results_GEO$inGSE97239 = Results_GEO$ProteinID %in% DW_Proteins[['GSE97239']]\n",
        "write.xlsx(Results_GEO, 'Results_GEO_DW.xlsx', asTable = T, row.names = F)"
      ],
      "execution_count": null,
      "outputs": []
    },
    {
      "cell_type": "code",
      "metadata": {
        "id": "Dr_7bcSzQuvW"
      },
      "source": [
        "mag75 = Reduce(intersect, DW_Proteins[1:4])\n",
        "mag75_l = list()\n",
        "for (set in names(DW_list)) {\n",
        "    mag75_l[[set]] = DW_list[[set]][DW_list[[set]]$ProteinID %in% mag75, ]\n",
        "}\n",
        "write.xlsx(mag75_l, 'Results_Intersection_DOWN_75.xlsx', asTable = T, row.names = F)"
      ],
      "execution_count": null,
      "outputs": []
    },
    {
      "cell_type": "code",
      "metadata": {
        "id": "ZKUI_buAQuvX"
      },
      "source": [
        "df = data.frame()\n",
        "for (i in names(mag75_l[1:4])) {\n",
        "    print(i)\n",
        "    df.tmp =  as.data.frame(mag75_l[i])\n",
        "    df.tmp$study = i\n",
        "    colnames(df.tmp) = c('GeneID','ProteinID','Mean_CPM_T','Mean_CPM_N','log2FoldChange','padj', 'study')\n",
        "    df = rbind(df, df.tmp)\n",
        "}\n",
        "\n",
        "#df$study <- factor(x = df$study, levels = c(\"MergeGEO\", 'TCGA', \"GSE97239\", \"GSE133624\", \"MIBCvsCTL\",\"NMIBCvsCTL\" ))\n",
        "df$study <- factor(x = df$study, levels = c(\"MergeGEO\", 'TCGA', \"GSE133624\",\"GSE97239\"))\n",
        "\n",
        "mag_plot <- ggplot(df, aes(x = GeneID, y = log2FoldChange, fill = study)) +\n",
        "geom_bar(stat=\"identity\", color = 'black', position=position_dodge()) + \n",
        "theme(plot.title = element_text(color=\"black\", size=26, face=\"bold.italic\"),\n",
        "      axis.text.x = element_text(angle = 90, color = \"black\", size=18, vjust = .5, hjust =1), \n",
        "      axis.title.x = element_text(face = \"bold\", color = \"black\", size = 18),\n",
        "      axis.text.y = element_text(angle = 0, face = \"bold\", color = \"black\", size=18),\n",
        "      axis.title.y = element_text(face = \"bold\", color = \"black\", size = 18),\n",
        "      legend.text = element_text(face = \"bold\", color = \"black\", size = 16),\n",
        "      legend.position=\"top\",\n",
        "      panel.background = element_rect(fill = \"white\",colour = \"black\", size = 1, linetype = \"solid\")) +\n",
        "labs(x = \"Gene\", y = \"LogFC\") + \n",
        "scale_fill_manual(values = rainbow(4))\n",
        "\n",
        "mag_plot\n",
        "pdf(paste('magic75_logFC.pdf',sep=''),width=16, height=4)\n",
        "plot(mag_plot)\n",
        "dev.off()"
      ],
      "execution_count": null,
      "outputs": []
    },
    {
      "cell_type": "markdown",
      "metadata": {
        "id": "ITyjVNPiQuvX"
      },
      "source": [
        "# Meta analysis"
      ]
    },
    {
      "cell_type": "code",
      "metadata": {
        "id": "Hk_zD7SWQuvX"
      },
      "source": [
        "library(metaRNASeq)\n",
        "library(DESeq2)\n",
        "library(DESeq)\n",
        "library(HTSFilter)"
      ],
      "execution_count": null,
      "outputs": []
    },
    {
      "cell_type": "code",
      "metadata": {
        "id": "-BSthb5wQuvY"
      },
      "source": [
        "gene_exp_GSE133624 = row.names(dds1)"
      ],
      "execution_count": null,
      "outputs": []
    },
    {
      "cell_type": "code",
      "metadata": {
        "id": "vasx0km1QuvY"
      },
      "source": [
        "venn(list(Stay=gene_exp_GSE133624, \n",
        "          S3vs3 = gene_exp_GSE97239, \n",
        "          TCGA= gene_exp_TCGA))"
      ],
      "execution_count": null,
      "outputs": []
    },
    {
      "cell_type": "code",
      "metadata": {
        "id": "DjOkPsyDQuvY"
      },
      "source": [
        "metadata = metadata_ArchS4\n",
        "count = fCountsData\n",
        "\n",
        "Series = 'GSE133624'\n",
        "\n",
        "metadata_s = metadata[metadata$series == Series,]\n",
        "count_s = count[,metadata_s$samples]\n",
        "dds1 <- DESeqDataSetFromMatrix(countData = count_s,\n",
        "                               colData = metadata_s,\n",
        "                               design = as.formula(\"~condition\"))\n",
        "\n",
        "min.sample = as.numeric(table(metadata_s$condition)[1])\n",
        "print(min.sample)\n",
        "keep <- rowSums(cpm(counts(dds1)) >= 1) >= min.sample\n",
        "print(table(keep))\n",
        "dds1 <- dds1[keep,]\n",
        "\n",
        "gene_exp_GSE133624 = row.names(dds1)\n",
        "\n",
        "res1 <- results(DESeq(dds1))"
      ],
      "execution_count": null,
      "outputs": []
    },
    {
      "cell_type": "code",
      "metadata": {
        "id": "C2DFgshPQuvY"
      },
      "source": [
        "Series = 'GSE97239'\n",
        "metadata_s = metadata[metadata$series == Series,]\n",
        "count_s = count[,metadata_s$samples]\n",
        "dds2 <- DESeqDataSetFromMatrix(countData = count_s,\n",
        "                               colData = metadata_s,\n",
        "                               design = as.formula(\"~condition\"))\n",
        "\n",
        "min.sample = as.numeric(table(metadata_s$condition)[1])\n",
        "print(min.sample)\n",
        "keep <- rowSums(cpm(counts(dds2)) >= 1) >= min.sample\n",
        "print(table(keep))\n",
        "dds2 <- dds2[keep,]\n",
        "\n",
        "gene_exp_GSE97239 = row.names(dds2)\n",
        "\n",
        "res2 <- results(DESeq(dds2))"
      ],
      "execution_count": null,
      "outputs": []
    },
    {
      "cell_type": "code",
      "metadata": {
        "id": "kSzCpdD0QuvZ"
      },
      "source": [
        "TCGAcount = read.table('../BLCA_TCGA_expression2.tsv')\n",
        "metadata_TCGA = read.table('../BLCA_TCGA_metadata.tsv', sep = '\\t')"
      ],
      "execution_count": null,
      "outputs": []
    },
    {
      "cell_type": "code",
      "metadata": {
        "id": "4PC9KOixQuvZ"
      },
      "source": [
        "#TCGA\n",
        "\n",
        "metadata_TCGA_clean = metadata_TCGA[,c('barcode','shortLetterCode')]\n",
        "colnames(metadata_TCGA_clean) = c('barcode','condition')\n",
        "metadata_TCGA_clean$condition = substring(metadata_TCGA_clean$condition,1,1)\n",
        "\n",
        "dds3 <- DESeqDataSetFromMatrix(countData = TCGAcount,\n",
        "                               colData = metadata_TCGA_clean,\n",
        "                               design = as.formula(\"~condition\"))\n",
        "\n",
        "min.sample = as.numeric(table(metadata_TCGA_clean$condition)[1])\n",
        "print(min.sample)\n",
        "keep <- rowSums(cpm(counts(dds3)) >= 1) >= min.sample\n",
        "print(table(keep))\n",
        "dds3 <- dds3[keep,]\n",
        "\n",
        "gene_exp_TCGA= row.names(dds3)\n",
        "res3 <- results(DESeq(dds3))"
      ],
      "execution_count": null,
      "outputs": []
    },
    {
      "cell_type": "code",
      "metadata": {
        "id": "ccO43kP9QuvZ"
      },
      "source": [
        "common_genes = Reduce(intersect, list(Stay=gene_exp_GSE133624, \n",
        "          S3vs3 = gene_exp_GSE97239, \n",
        "          TCGA= gene_exp_TCGA) )\n",
        "\n",
        "res1 = res1[common_genes,]\n",
        "res2 = res2[common_genes,]\n",
        "res3 = res3[common_genes,]"
      ],
      "execution_count": null,
      "outputs": []
    },
    {
      "cell_type": "code",
      "metadata": {
        "id": "qXhMPOSXQuva"
      },
      "source": [
        "length(common_genes)"
      ],
      "execution_count": null,
      "outputs": []
    },
    {
      "cell_type": "code",
      "metadata": {
        "id": "q0Y98aZZQuva"
      },
      "source": [
        "#list pvalue\n",
        "rawpval <- list(pval1=res1[[\"pvalue\"]],\n",
        "                pval2=res2[[\"pvalue\"]], \n",
        "                pval3=res3[[\"pvalue\"]])\n",
        "#list FoldChange (log2)\n",
        "FC <- list(\"FC1\"=res1[[\"log2FoldChange\"]],\"FC2\"=res2[[\"log2FoldChange\"]], \"FC3\"=res3[[\"log2FoldChange\"]])\n",
        "#list padj\n",
        "adjpval <- list(\"adjpval1\"=res1[[\"padj\"]],\"adjpval2\"=res2[[\"padj\"]],\"adjpval3\"=res3[[\"padj\"]])\n",
        "# list \"is DE?\"\"\n",
        "DE <- mapply(adjpval, FUN=function(x) ifelse(x <= 0.05, 1, 0))\n",
        "colnames(DE)=c(\"DE_GSE133624\",\"DE_GSE97239\",\"DE_TCGA\")\n",
        "\n",
        "# plot hist             \n",
        "par(mfrow = c(1,3))\n",
        "hist(rawpval[[1]], breaks=100, col=\"grey\", main=\"GSE133624\", xlab=\"Raw p-values\")\n",
        "hist(rawpval[[2]], breaks=100, col=\"grey\", main=\"GSE97239\", xlab=\"Raw p-values\")\n",
        "hist(rawpval[[3]], breaks=100, col=\"grey\", main=\"TCGA\", xlab=\"Raw p-values\")"
      ],
      "execution_count": null,
      "outputs": []
    },
    {
      "cell_type": "code",
      "metadata": {
        "id": "cRRTEMa6Quva"
      },
      "source": [
        "row.names(DE) <- row.names(res1)"
      ],
      "execution_count": null,
      "outputs": []
    },
    {
      "cell_type": "markdown",
      "metadata": {
        "id": "tuiB5XGCQuva"
      },
      "source": [
        "### Filtering low expressed genes - padj = 1 \n",
        "### NOT RUN\n",
        "metadata = metadata_ArchS4\n",
        "count = fCountsData\n",
        "\n",
        "Series = 'GSE133624'\n",
        "metadata_s = metadata[metadata$series == Series,]\n",
        "count_s = count[,metadata_s$samples]\n",
        "\n",
        "\n",
        "resDESeq1study <- function(studyname, metadata, count, cond1totest=\"T\",\n",
        "                           cond2totest=\"N\", fitType = \"parametric\") {\n",
        "    \n",
        "    studyconds <- metadata[metadata$series == studyname,]\n",
        "    study <- count[,studyconds$samples]\n",
        "    colnames(study) <- paste(studyconds$sample,studyconds$condition, sep='.')\n",
        "    cds <- newCountDataSet(study, studyconds$condition)\n",
        "    cds <- estimateSizeFactors(cds)\n",
        "    cds <- estimateDispersions(cds, method=\"pooled\", fitType=fitType)\n",
        "    ## Filter using Jaccard index for each study\n",
        "    filter <- HTSFilter(cds, plot=FALSE)\n",
        "    cds.filter <- filter$filteredData\n",
        "    on.index <- which(filter$on == 1)\n",
        "    cat(\"# genes passing filter\", studyname, \":\", dim(cds.filter)[1], \"\\n\")\n",
        "    nbT <- nbinomTest(cds.filter, cond1totest, cond2totest)\n",
        "    res <- as.data.frame(matrix(NA, nrow = nrow(cds), ncol=ncol(nbT)))\n",
        "    colnames(res) <- colnames(nbT)\n",
        "    res[on.index,] <- nbT\n",
        "    res}\n",
        "\n",
        "studies <- c(\"GSE97239\", \"GSE133624\")\n",
        "resDESeq <- lapply(studies,\n",
        "                   FUN=function(x) resDESeq1study(x, metadata = metadata_ArchS4, count = fCountsData))\n",
        "                   \n",
        "rawpval <- lapply(resDESeq, FUN=function(res) res$pval)\n",
        "adjpval <- lapply(resDESeq, FUN=function(res) res$padj)\n",
        "DE <- mapply(adjpval, FUN=function(x) ifelse(x <= 0.05, 1, 0))\n",
        "colnames(DE)=paste(\"DE\",studies,sep=\".\")\n",
        "par(mfrow = c(1,2))\n",
        "hist(rawpval[[1]], breaks=100, col=\"grey\", main=\"Study 1\", xlab=\"Raw p-values\")\n",
        "hist(rawpval[[2]], breaks=100, col=\"grey\", main=\"Study 2\", xlab=\"Raw p-values\")                      "
      ]
    },
    {
      "cell_type": "markdown",
      "metadata": {
        "id": "BqKiWFl-Quvb"
      },
      "source": [
        "# combination "
      ]
    },
    {
      "cell_type": "code",
      "metadata": {
        "id": "jHsmJMaxQuvb"
      },
      "source": [
        "fishcomb <- fishercomb(rawpval, BHth = 0.05)\n",
        "hist(fishcomb$rawpval, breaks=100, col=\"grey\", \n",
        "     main=\"Fisher method\", \n",
        "     xlab = \"Raw p-values (meta-analysis)\")\n",
        "\n",
        "#t(metadata_clean$shortLetterCode)\n",
        "#nrep - min number of replica per conditions\n",
        "invnormcomb <- invnorm(rawpval, \n",
        "                       nrep=c(3,29,19), \n",
        "                       #classes = list(as.character(t(metadata_GSE97239$condition)),\n",
        "                    #              as.character(t(metadata_GSE133624$condition)),\n",
        "                         #             as.character(t(metadata_TCGA_clean$condition))),\n",
        "                       BHth = 0.05)\n",
        "hist(invnormcomb$rawpval, breaks=100, col=\"grey\", \n",
        "     main=\"Inverse normal method\", \n",
        "     xlab = \"Raw p-values (meta-analysis)\")\n"
      ],
      "execution_count": null,
      "outputs": []
    },
    {
      "cell_type": "code",
      "metadata": {
        "id": "f12MGr9jQuvc"
      },
      "source": [
        "fishcomb$DEname = row.names(res1)[fishcomb$DEindices]\n",
        "invnormcomb$DEname =  row.names(res1)[invnormcomb$DEindices]"
      ],
      "execution_count": null,
      "outputs": []
    },
    {
      "cell_type": "code",
      "metadata": {
        "id": "b95KDsV5Quvc"
      },
      "source": [
        "#'is DGE?'\n",
        "DEresults <- data.frame(DE,\n",
        "                        \"DE.fishercomb\"=ifelse(fishcomb$adjpval<=0.05,1,0),\n",
        "                        \"DE.invnorm\"=ifelse(invnormcomb$adjpval<=0.05,1,0))\n",
        "dim(DEresults)\n",
        "head(DEresults)"
      ],
      "execution_count": null,
      "outputs": []
    },
    {
      "cell_type": "code",
      "metadata": {
        "id": "xXIaQCVKQuvd"
      },
      "source": [
        "signsFC <- mapply(FC, FUN=function(x) sign(x))\n",
        "sumsigns <- apply(signsFC,1,sum)\n",
        "commonsgnFC <- ifelse(abs(sumsigns)==dim(signsFC)[2], sign(sumsigns),0)\n",
        "unionDE <- sort(unique(c(fishcomb$DEindices,invnormcomb$DEindices)))\n",
        " \n",
        "FC.selecDE <- data.frame(DEresults[unionDE,],\n",
        "                         do.call(cbind,FC)[unionDE,], \n",
        "                         signFC=commonsgnFC[unionDE])\n",
        "keepDE <- FC.selecDE[which(abs(FC.selecDE$signFC)==1),]\n",
        "conflictDE <- FC.selecDE[which(FC.selecDE$signFC == 0),]\n",
        "\n",
        "#checking \n",
        "dim(FC.selecDE)        \n",
        "dim(keepDE)  \n",
        "dim(conflictDE)    \n",
        "                                   "
      ],
      "execution_count": null,
      "outputs": []
    },
    {
      "cell_type": "code",
      "metadata": {
        "id": "9Wy6uSsoQuvd"
      },
      "source": [
        "head(conflictDE)\n",
        "head(keepDE)"
      ],
      "execution_count": null,
      "outputs": []
    },
    {
      "cell_type": "code",
      "metadata": {
        "id": "Ret5eIqgQuve"
      },
      "source": [
        "fishcomb_de <- rownames(keepDE)[which(keepDE[,\"DE.fishercomb\"]==1)]\n",
        "invnorm_de <- rownames(keepDE)[which(keepDE[,\"DE.invnorm\"]==1)]\n",
        "indstudy_de <- list(rownames(keepDE)[which(keepDE[,\"DE_GSE133624\"]==1)],\n",
        "                     rownames(keepDE)[which(keepDE[,\"DE_GSE97239\"]==1)],\n",
        "                   rownames(keepDE)[which(keepDE[,\"DE_TCGA\"]==1)])\n",
        "\n",
        "#names(DE)=c(\"DE_GSE133624\",\"DE_GSE97239\",\"DE_TCGA\")\n",
        "IDD.IRR(fishcomb_de,indstudy_de)\n",
        "IDD.IRR(invnorm_de ,indstudy_de)"
      ],
      "execution_count": null,
      "outputs": []
    },
    {
      "cell_type": "code",
      "metadata": {
        "id": "zLzlJCePQuve"
      },
      "source": [
        "Ven = list(GSE133624 = rownames(keepDE)[which(keepDE[,\"DE_GSE133624\"]==1)],\n",
        "           GSE97239  = rownames(keepDE)[which(keepDE[,\"DE_GSE97239\"]==1)],\n",
        "           TCGA      = rownames(keepDE)[which(keepDE[,\"DE_TCGA\"]==1)],\n",
        "           fisher    = rownames(keepDE)[which(keepDE[,\"DE.fishercomb\"]==1)],\n",
        "           invnorm   = rownames(keepDE)[which(keepDE[,\"DE.invnorm\"]==1)])"
      ],
      "execution_count": null,
      "outputs": []
    },
    {
      "cell_type": "code",
      "metadata": {
        "id": "Fht6hS9UQuve"
      },
      "source": [
        "venn(Ven,\n",
        "     simplify=TRUE, opacity = 0.3, box = FALSE, ilab=TRUE, \n",
        "     zcolor = rainbow(5), \n",
        "     ilcs = 1.5, sncs = 2)"
      ],
      "execution_count": null,
      "outputs": []
    },
    {
      "cell_type": "code",
      "metadata": {
        "id": "6tNFofreQuvf"
      },
      "source": [
        "shared_genes = Reduce(intersect,Ven)\n",
        "shared_genes_table = keepDE[shared_genes,]\n",
        "metaUP = row.names(shared_genes_table[shared_genes_table$signFC==1,])\n",
        "metaDW = row.names(shared_genes_table[shared_genes_table$signFC==-1,])"
      ],
      "execution_count": null,
      "outputs": []
    },
    {
      "cell_type": "code",
      "metadata": {
        "id": "5oXX3f49Quvf"
      },
      "source": [
        ""
      ],
      "execution_count": null,
      "outputs": []
    },
    {
      "cell_type": "code",
      "metadata": {
        "id": "-uJz7pw1Quvf"
      },
      "source": [
        "dir = 'metaRNAseq/'\n",
        "dir.create(dir)\n",
        "i = 'meta'\n",
        "modulation = c('UP')#,'DW')\n",
        "    fdr = list(UP = metaUP, DW = metaDW)\n",
        "    for (m in modulation) { \n",
        "        proteins = ST[ST$UniProt.gene %in% fdr[[m]],]\n",
        "        proteins = proteins[!is.na(proteins$Surfaceome.Label),]\n",
        "        print(table(proteins$Surfaceome.Label))\n",
        "        surface.proteins = proteins[proteins$Surfaceome.Label=='surface',]  \n",
        "        }"
      ],
      "execution_count": null,
      "outputs": []
    },
    {
      "cell_type": "code",
      "metadata": {
        "id": "8Vs7jnsMQuvf"
      },
      "source": [
        "Meta_protein = surface.proteins$UniProt.name\n",
        "Meta_gene = surface.proteins$UniProt.gene\n",
        "shared_genes_table[Meta_gene,]"
      ],
      "execution_count": null,
      "outputs": []
    },
    {
      "cell_type": "code",
      "metadata": {
        "id": "F8Q4kzryQuvg"
      },
      "source": [
        "MetaAnalysis = list(GSE133624 = keepDE[which(keepDE[,\"DE_GSE133624\"]==1),],\n",
        "                    GSE97239  = keepDE[which(keepDE[,\"DE_GSE97239\"]==1),],\n",
        "                    TCGA      = keepDE[which(keepDE[,\"DE_TCGA\"]==1),],\n",
        "                    fisher    = keepDE[which(keepDE[,\"DE.fishercomb\"]==1),],\n",
        "                    invnorm   = keepDE[which(keepDE[,\"DE.invnorm\"]==1),])"
      ],
      "execution_count": null,
      "outputs": []
    },
    {
      "cell_type": "code",
      "metadata": {
        "id": "mYZboAznQuvg"
      },
      "source": [
        "surface.proteins"
      ],
      "execution_count": null,
      "outputs": []
    },
    {
      "cell_type": "code",
      "metadata": {
        "id": "s7dBJrefQuvg"
      },
      "source": [
        "dirMeta = 'metaRNAseq/'\n",
        "dir.create(dirMeta)\n",
        "Surface_META_UP = list()\n",
        "Surface_META_DW = list()\n",
        "Surface_META_UP_g = list()\n",
        "Surface_META_DW_g = list()\n",
        "for (names in names(MetaAnalysis)) {\n",
        "    md = MetaAnalysis[[names]]\n",
        "    metaUP = row.names(md[md$signFC==1,])\n",
        "    metaDW = row.names(md[md$signFC==-1,])\n",
        "    i = names\n",
        "    modulation = c('UP','DW')\n",
        "    fdr = list(UP = metaUP, DW = metaDW)\n",
        "    for (m in modulation) { \n",
        "        proteins = ST[ST$UniProt.gene %in% fdr[[m]],]\n",
        "        proteins = proteins[!is.na(proteins$Surfaceome.Label),]\n",
        "        print(table(proteins$Surfaceome.Label))\n",
        "        surface.proteins = proteins[proteins$Surfaceome.Label=='surface',]\n",
        "        surface.genes = surface.proteins$UniProt.gene\n",
        "        surface.proteinsID = surface.proteins$UniProt.name\n",
        "        if (m == 'UP') {\n",
        "            Surface_META_UP[[names]] = surface.proteinsID\n",
        "            Surface_META_UP_g[[names]] = surface.genes\n",
        "        }\n",
        "        else {\n",
        "            Surface_META_DW[[names]] = surface.proteinsID\n",
        "            Surface_META_DW_g[[names]] = surface.genes\n",
        "        }\n",
        "        surfaceome_DGEresults = as.data.frame(MetaAnalysis[[names]][surface.genes,])\n",
        "        surfaceome_DGEresults$GeneID = row.names(surfaceome_DGEresults)\n",
        "        surfaceome_DGEresults$ProteinID = surface.proteins$UniProt.name\n",
        "        write.xlsx(surfaceome_DGEresults[,c('GeneID','ProteinID',\n",
        "                                           'DE_GSE133624','DE_GSE97239','DE_TCGA',\n",
        "                                            'DE.fishercomb','DE.invnorm','FC1','FC2','FC3','signFC')],\n",
        "               paste(dirMeta,'DGE_BladderSurfaceome_',i,'_',m,'_meta.xlsx',sep=''), \n",
        "               asTable = T, row.names= F)  \n",
        "        }\n",
        "    }"
      ],
      "execution_count": null,
      "outputs": []
    },
    {
      "cell_type": "code",
      "metadata": {
        "id": "r5-zOQz3Quvh"
      },
      "source": [
        "colnames(surfaceome_DGEresults)"
      ],
      "execution_count": null,
      "outputs": []
    },
    {
      "cell_type": "code",
      "metadata": {
        "id": "xcWMCN6bQuvh"
      },
      "source": [
        "\n",
        "\n",
        "pdf(paste(dirMeta,'Venn_intersection_UP_Meta.pdf',sep=''),width=8, height=8)\n",
        "venn(Surface_META_UP,\n",
        "     simplify=TRUE, opacity = 0.3, box = FALSE, ilab=TRUE, \n",
        "     zcolor = rainbow(5), \n",
        "     ilcs = 1.5, sncs = 1.5)\n",
        "dev.off()\n",
        "\n",
        "venn(Surface_META_UP_g,\n",
        "     simplify=TRUE, opacity = 0.3, box = FALSE, ilab=TRUE, \n",
        "     zcolor = rainbow(5), \n",
        "     ilcs = 1.5, sncs = 1.5)"
      ],
      "execution_count": null,
      "outputs": []
    },
    {
      "cell_type": "code",
      "metadata": {
        "id": "LwsOwJ1wQuvj"
      },
      "source": [
        "pdf(paste(dirMeta,'Venn_intersection_DW_Meta.pdf',sep=''),width=8, height=8)\n",
        "venn(Surface_META_DW,\n",
        "     simplify=TRUE, opacity = 0.3, box = FALSE, ilab=TRUE, \n",
        "     zcolor = rainbow(5), \n",
        "     ilcs = 1.5, sncs = 1.5)\n",
        "dev.off()\n",
        "venn(Surface_META_DW_g,\n",
        "     simplify=TRUE, opacity = 0.3, box = FALSE, ilab=TRUE, \n",
        "     zcolor = rainbow(5), \n",
        "     ilcs = 1.5, sncs = 1.5)"
      ],
      "execution_count": null,
      "outputs": []
    },
    {
      "cell_type": "code",
      "metadata": {
        "id": "HTqo60RgQuvk"
      },
      "source": [
        "mag77_meta = Reduce(intersect,Surface_META_DW)\n",
        "\n",
        "setdiff(mag75, mag77_meta)\n",
        "setdiff(mag77_meta, mag75)\n"
      ],
      "execution_count": null,
      "outputs": []
    },
    {
      "cell_type": "code",
      "metadata": {
        "id": "UcLy_LaJQuvk"
      },
      "source": [
        ""
      ],
      "execution_count": null,
      "outputs": []
    }
  ]
}